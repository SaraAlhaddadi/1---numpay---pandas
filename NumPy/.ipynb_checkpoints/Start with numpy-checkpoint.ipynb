{
 "cells": [
  {
   "cell_type": "code",
   "execution_count": 2,
   "id": "8a0d005f",
   "metadata": {
    "id": "8a0d005f"
   },
   "outputs": [],
   "source": [
    "import numpy as np\n",
    "import pandas as pd"
   ]
  },
  {
   "cell_type": "markdown",
   "id": "d5350bb8",
   "metadata": {
    "id": "d5350bb8"
   },
   "source": [
    "# Mathematical operations"
   ]
  },
  {
   "cell_type": "code",
   "execution_count": null,
   "id": "40cc9879",
   "metadata": {
    "colab": {
     "base_uri": "https://localhost:8080/"
    },
    "executionInfo": {
     "elapsed": 296,
     "status": "ok",
     "timestamp": 1644075913226,
     "user": {
      "displayName": "Yaheaal",
      "photoUrl": "https://lh3.googleusercontent.com/a-/AOh14GgoE49Jj8XRaT0ZkUB-uc5rP5cDV-d6ZY1nv6xY=s64",
      "userId": "00430625077795301584"
     },
     "user_tz": -120
    },
    "id": "40cc9879",
    "outputId": "8649fda4-8a24-4bdb-fb3a-4c3186c57bbb"
   },
   "outputs": [
    {
     "name": "stdout",
     "output_type": "stream",
     "text": [
      "-0.9880316240928618 0.15425144988758405 -6.405331196646276\n"
     ]
    }
   ],
   "source": [
    "# degrees\n",
    "\n",
    "a = np.sin(30)\n",
    "b = np.cos(30)\n",
    "c = np.tan(30)\n",
    "\n",
    "print(a, b, c)"
   ]
  },
  {
   "cell_type": "code",
   "execution_count": 37,
   "id": "1978370f-cf74-4e05-ab96-45bf830e31e8",
   "metadata": {},
   "outputs": [
    {
     "name": "stdout",
     "output_type": "stream",
     "text": [
      "6\n",
      "6\n",
      "2.0\n",
      "0.816496580927726\n",
      "0.6666666666666666\n",
      "1\n",
      "3\n",
      "0\n",
      "2\n"
     ]
    }
   ],
   "source": [
    "arr = np.array([1,2,3])\n",
    "print(np.sum(arr))\n",
    "print(np.prod(arr))\n",
    "print(np.mean(arr))\n",
    "print(np.std(arr))\n",
    "print(np.var(arr))\n",
    "print(np.min(arr))\n",
    "print(np.max(arr))\n",
    "print(np.argmin(arr))\n",
    "print(np.argmax(arr))"
   ]
  },
  {
   "cell_type": "code",
   "execution_count": 58,
   "id": "274e1733-e5fb-43ce-8fb1-c2bc6d3fa451",
   "metadata": {},
   "outputs": [
    {
     "data": {
      "text/plain": [
       "3.141592653589793"
      ]
     },
     "execution_count": 58,
     "metadata": {},
     "output_type": "execute_result"
    }
   ],
   "source": [
    "np.pi"
   ]
  },
  {
   "cell_type": "code",
   "execution_count": null,
   "id": "9f9ba897",
   "metadata": {
    "colab": {
     "base_uri": "https://localhost:8080/"
    },
    "executionInfo": {
     "elapsed": 357,
     "status": "ok",
     "timestamp": 1644075920153,
     "user": {
      "displayName": "Yaheaal",
      "photoUrl": "https://lh3.googleusercontent.com/a-/AOh14GgoE49Jj8XRaT0ZkUB-uc5rP5cDV-d6ZY1nv6xY=s64",
      "userId": "00430625077795301584"
     },
     "user_tz": -120
    },
    "id": "9f9ba897",
    "outputId": "b850edc2-b938-4e85-bd6d-be2a061a0b9a",
    "scrolled": true
   },
   "outputs": [
    {
     "name": "stdout",
     "output_type": "stream",
     "text": [
      "0.49999999999999994 0.8660254037844387 0.5773502691896257\n"
     ]
    }
   ],
   "source": [
    "# radians\n",
    "# np.pi represents the mathematical constant pi, and 180 is the number of degrees in a full circle.\n",
    "# By multiplying 30 by np.pi/180, you obtain the equivalent value in radians.\n",
    "a = np.sin(30*np.pi/180)\n",
    "b = np.cos(30*np.pi/180)\n",
    "c = np.tan(30*np.pi/180)\n",
    "\n",
    "print(a, b, c)"
   ]
  },
  {
   "cell_type": "code",
   "execution_count": 60,
   "id": "e4465077-1995-4b97-b668-4ce03646d18c",
   "metadata": {},
   "outputs": [
    {
     "name": "stdout",
     "output_type": "stream",
     "text": [
      "0.49999999999999994\n"
     ]
    }
   ],
   "source": [
    "# The np.sin() function in NumPy expects the input to be in radians, not degrees.\n",
    "# So, to get the sine of 30 degrees, you need to convert it to radians first.\n",
    "# Convert degrees to radians\n",
    "degrees = 30\n",
    "radians = np.deg2rad(degrees)\n",
    "\n",
    "# Calculate the sine\n",
    "a = np.sin(radians)\n",
    "\n",
    "print(a)"
   ]
  },
  {
   "cell_type": "markdown",
   "id": "4e8d0c84",
   "metadata": {
    "id": "4e8d0c84"
   },
   "source": [
    "# round, floor, ceil"
   ]
  },
  {
   "cell_type": "code",
   "execution_count": 61,
   "id": "c70f4270",
   "metadata": {
    "colab": {
     "base_uri": "https://localhost:8080/"
    },
    "executionInfo": {
     "elapsed": 4,
     "status": "ok",
     "timestamp": 1644076059785,
     "user": {
      "displayName": "Yaheaal",
      "photoUrl": "https://lh3.googleusercontent.com/a-/AOh14GgoE49Jj8XRaT0ZkUB-uc5rP5cDV-d6ZY1nv6xY=s64",
      "userId": "00430625077795301584"
     },
     "user_tz": -120
    },
    "id": "c70f4270",
    "outputId": "fce103e2-920d-4088-9bc7-80932bea1da1"
   },
   "outputs": [
    {
     "name": "stdout",
     "output_type": "stream",
     "text": [
      "3.0\n",
      "4.0\n",
      "4.0\n"
     ]
    }
   ],
   "source": [
    "print(np.round(3.2))\n",
    "print(np.round(3.8))\n",
    "print(np.round(3.5))"
   ]
  },
  {
   "cell_type": "code",
   "execution_count": 62,
   "id": "a61a1a37",
   "metadata": {
    "colab": {
     "base_uri": "https://localhost:8080/"
    },
    "executionInfo": {
     "elapsed": 14,
     "status": "ok",
     "timestamp": 1644053665316,
     "user": {
      "displayName": "Yaheaal",
      "photoUrl": "https://lh3.googleusercontent.com/a-/AOh14GgoE49Jj8XRaT0ZkUB-uc5rP5cDV-d6ZY1nv6xY=s64",
      "userId": "00430625077795301584"
     },
     "user_tz": -120
    },
    "id": "a61a1a37",
    "outputId": "d061a763-dfb4-4ecd-b0ba-f53a63c9781d",
    "scrolled": true
   },
   "outputs": [
    {
     "name": "stdout",
     "output_type": "stream",
     "text": [
      "2.0\n",
      "2.0\n"
     ]
    }
   ],
   "source": [
    "print(np.floor(2.9))\n",
    "print(np.floor(2.2))"
   ]
  },
  {
   "cell_type": "code",
   "execution_count": 63,
   "id": "H25GIIyTkrom",
   "metadata": {
    "colab": {
     "base_uri": "https://localhost:8080/"
    },
    "executionInfo": {
     "elapsed": 3,
     "status": "ok",
     "timestamp": 1644076145172,
     "user": {
      "displayName": "Yaheaal",
      "photoUrl": "https://lh3.googleusercontent.com/a-/AOh14GgoE49Jj8XRaT0ZkUB-uc5rP5cDV-d6ZY1nv6xY=s64",
      "userId": "00430625077795301584"
     },
     "user_tz": -120
    },
    "id": "H25GIIyTkrom",
    "outputId": "3889a83b-05d5-4e37-b1f6-159bc45423d3"
   },
   "outputs": [
    {
     "name": "stdout",
     "output_type": "stream",
     "text": [
      "1.0\n",
      "5.0\n"
     ]
    }
   ],
   "source": [
    "print(np.ceil(.6))\n",
    "print(np.ceil(4.1))"
   ]
  },
  {
   "cell_type": "markdown",
   "id": "5871ecea",
   "metadata": {
    "id": "5871ecea"
   },
   "source": [
    "# Arrays"
   ]
  },
  {
   "cell_type": "code",
   "execution_count": 65,
   "id": "917c97f6",
   "metadata": {
    "colab": {
     "base_uri": "https://localhost:8080/"
    },
    "executionInfo": {
     "elapsed": 299,
     "status": "ok",
     "timestamp": 1644076383047,
     "user": {
      "displayName": "Yaheaal",
      "photoUrl": "https://lh3.googleusercontent.com/a-/AOh14GgoE49Jj8XRaT0ZkUB-uc5rP5cDV-d6ZY1nv6xY=s64",
      "userId": "00430625077795301584"
     },
     "user_tz": -120
    },
    "id": "917c97f6",
    "outputId": "e77f9b62-8ae5-4e85-faf4-dd412ad4a325"
   },
   "outputs": [
    {
     "name": "stdout",
     "output_type": "stream",
     "text": [
      "[1, 2, 3, 4, 5]\n",
      "<class 'list'>\n",
      "[1 2 3 4 5]\n",
      "<class 'numpy.ndarray'>\n"
     ]
    }
   ],
   "source": [
    "a = [1,2,3,4,5]\n",
    "b = np.array(a)\n",
    "\n",
    "print(a)\n",
    "print(type(a))\n",
    "print(b)\n",
    "print(type(b))"
   ]
  },
  {
   "cell_type": "code",
   "execution_count": 66,
   "id": "5df3ba03",
   "metadata": {
    "colab": {
     "base_uri": "https://localhost:8080/"
    },
    "executionInfo": {
     "elapsed": 302,
     "status": "ok",
     "timestamp": 1644076386314,
     "user": {
      "displayName": "Yaheaal",
      "photoUrl": "https://lh3.googleusercontent.com/a-/AOh14GgoE49Jj8XRaT0ZkUB-uc5rP5cDV-d6ZY1nv6xY=s64",
      "userId": "00430625077795301584"
     },
     "user_tz": -120
    },
    "id": "5df3ba03",
    "outputId": "848af152-f7c3-43ea-825f-92f47b87d03d"
   },
   "outputs": [
    {
     "name": "stdout",
     "output_type": "stream",
     "text": [
      "[[1, 2, 3], [5, 3, 6], [9, 6, 5]]\n",
      "[[1 2 3]\n",
      " [5 3 6]\n",
      " [9 6 5]]\n",
      "<class 'numpy.ndarray'>\n"
     ]
    }
   ],
   "source": [
    "a = [[1,2,3],[5,3,6],[9,6,5]]\n",
    "b = np.array(a)\n",
    "\n",
    "print(a)\n",
    "print(b)\n",
    "print(type(b))"
   ]
  },
  {
   "cell_type": "markdown",
   "id": "2fec3bb3-2749-489c-a773-94e550bbb77e",
   "metadata": {},
   "source": [
    "Certainly! Let's break down the code step by step:\n",
    "\n",
    "Step 1: The list `[2, 4, 6]` contains three starting values for the ranges.\n",
    "\n",
    "Step 2: The expression `range(i, i + 3)` generates a sequence of three consecutive numbers starting from the given `i` value.\n",
    "\n",
    "- For `i = 2`, the range is `range(2, 2 + 3)`, which produces the sequence `[2, 3, 4]`.\n",
    "- For `i = 4`, the range is `range(4, 4 + 3)`, which generates the sequence `[4, 5, 6]`.\n",
    "- For `i = 6`, the range is `range(6, 6 + 3)`, resulting in the sequence `[6, 7, 8]`.\n",
    "\n",
    "Step 3: The list comprehension `[range(i, i + 3) for i in [2, 4, 6]]` iterates over each element in the list `[2, 4, 6]` and generates a range sequence for each value.\n",
    "\n",
    "- For `i = 2`, the range sequence `[2, 3, 4]` is generated.\n",
    "- For `i = 4`, the range sequence `[4, 5, 6]` is generated.\n",
    "- For `i = 6`, the range sequence `[6, 7, 8]` is generated.\n",
    "\n",
    "Step 4: Finally, the `np.array()` function from NumPy is used to convert the list of range sequences into a NumPy array.\n",
    "\n",
    "Putting it all together, the code `np.array([range(i, i + 3) for i in [2, 4, 6]])` generates a 2-dimensional NumPy array with three rows and three columns as follows:\n",
    "\n",
    "```\n",
    "[[2 3 4]\n",
    " [4 5 6]\n",
    " [6 7 8]]\n",
    "```\n",
    "\n",
    "Each row represents a different starting value from the list `[2, 4, 6]`, and each column contains the corresponding range of three consecutive numbers starting from the given starting value."
   ]
  },
  {
   "cell_type": "code",
   "execution_count": 68,
   "id": "ae6f308f",
   "metadata": {
    "colab": {
     "base_uri": "https://localhost:8080/"
    },
    "executionInfo": {
     "elapsed": 3,
     "status": "ok",
     "timestamp": 1644076671494,
     "user": {
      "displayName": "Yaheaal",
      "photoUrl": "https://lh3.googleusercontent.com/a-/AOh14GgoE49Jj8XRaT0ZkUB-uc5rP5cDV-d6ZY1nv6xY=s64",
      "userId": "00430625077795301584"
     },
     "user_tz": -120
    },
    "id": "ae6f308f",
    "outputId": "07722203-efef-4b7b-a70b-7d8463e72de0"
   },
   "outputs": [
    {
     "name": "stdout",
     "output_type": "stream",
     "text": [
      "[[2 3 4]\n",
      " [4 5 6]\n",
      " [6 7 8]]\n"
     ]
    },
    {
     "ename": "TypeError",
     "evalue": "'numpy.ndarray' object is not callable",
     "output_type": "error",
     "traceback": [
      "\u001b[0;31m---------------------------------------------------------------------------\u001b[0m",
      "\u001b[0;31mTypeError\u001b[0m                                 Traceback (most recent call last)",
      "Cell \u001b[0;32mIn[68], line 4\u001b[0m\n\u001b[1;32m      1\u001b[0m a \u001b[38;5;241m=\u001b[39m np\u001b[38;5;241m.\u001b[39marray([\u001b[38;5;28mrange\u001b[39m(i, i \u001b[38;5;241m+\u001b[39m \u001b[38;5;241m3\u001b[39m) \u001b[38;5;28;01mfor\u001b[39;00m i \u001b[38;5;129;01min\u001b[39;00m [\u001b[38;5;241m2\u001b[39m, \u001b[38;5;241m4\u001b[39m, \u001b[38;5;241m6\u001b[39m]])\n\u001b[1;32m      3\u001b[0m \u001b[38;5;28mprint\u001b[39m(a)\n\u001b[0;32m----> 4\u001b[0m \u001b[43marr\u001b[49m\u001b[43m(\u001b[49m\u001b[38;5;28;43mrange\u001b[39;49m\u001b[43m(\u001b[49m\u001b[38;5;241;43m2\u001b[39;49m\u001b[43m,\u001b[49m\u001b[43m \u001b[49m\u001b[38;5;241;43m2\u001b[39;49m\u001b[43m \u001b[49m\u001b[38;5;241;43m+\u001b[39;49m\u001b[43m \u001b[49m\u001b[38;5;241;43m3\u001b[39;49m\u001b[43m)\u001b[49m\u001b[43m)\u001b[49m\n",
      "\u001b[0;31mTypeError\u001b[0m: 'numpy.ndarray' object is not callable"
     ]
    }
   ],
   "source": [
    "a = np.array([range(i, i + 3) for i in [2, 4, 6]])\n",
    "\n",
    "print(a)\n",
    "range(2, 2 + 3)"
   ]
  },
  {
   "cell_type": "code",
   "execution_count": null,
   "id": "14ef0d21",
   "metadata": {
    "colab": {
     "base_uri": "https://localhost:8080/"
    },
    "executionInfo": {
     "elapsed": 287,
     "status": "ok",
     "timestamp": 1644076725815,
     "user": {
      "displayName": "Yaheaal",
      "photoUrl": "https://lh3.googleusercontent.com/a-/AOh14GgoE49Jj8XRaT0ZkUB-uc5rP5cDV-d6ZY1nv6xY=s64",
      "userId": "00430625077795301584"
     },
     "user_tz": -120
    },
    "id": "14ef0d21",
    "outputId": "a3f8c937-04d4-4512-c795-7e7b8a1c1e2f"
   },
   "outputs": [
    {
     "name": "stdout",
     "output_type": "stream",
     "text": [
      "[[4.941e-323 5.435e-323 4.941e-322]\n",
      " [4.990e-322 4.941e-321 4.946e-321]]\n"
     ]
    }
   ],
   "source": [
    "a = np.empty((2,3))\n",
    "print(a)"
   ]
  },
  {
   "cell_type": "markdown",
   "id": "a68fcb26",
   "metadata": {
    "id": "a68fcb26"
   },
   "source": [
    "# Random"
   ]
  },
  {
   "cell_type": "code",
   "execution_count": null,
   "id": "ad9ac376",
   "metadata": {
    "id": "ad9ac376"
   },
   "outputs": [],
   "source": [
    "a = np.random.uniform(1,10)\n",
    "b = np.random.uniform(1,10,20)\n",
    "\n",
    "print(a)\n",
    "print('-------------------------')\n",
    "print(b)\n",
    "print('-------------------------')"
   ]
  },
  {
   "cell_type": "code",
   "execution_count": null,
   "id": "AXU7fjrrYe3d",
   "metadata": {
    "colab": {
     "base_uri": "https://localhost:8080/",
     "height": 283
    },
    "executionInfo": {
     "elapsed": 1095,
     "status": "ok",
     "timestamp": 1644240776134,
     "user": {
      "displayName": "Yaheaal",
      "photoUrl": "https://lh3.googleusercontent.com/a-/AOh14GgoE49Jj8XRaT0ZkUB-uc5rP5cDV-d6ZY1nv6xY=s64",
      "userId": "00430625077795301584"
     },
     "user_tz": -120
    },
    "id": "AXU7fjrrYe3d",
    "outputId": "6ba93a9d-a463-4955-cc2b-4ec4be9919d1"
   },
   "outputs": [
    {
     "data": {
      "text/plain": [
       "<matplotlib.axes._subplots.AxesSubplot at 0x7ff63ac90410>"
      ]
     },
     "execution_count": 43,
     "metadata": {},
     "output_type": "execute_result"
    },
    {
     "data": {
      "image/png": "[encoded data removed]",
      "text/plain": [
       "<Figure size 432x288 with 1 Axes>"
      ]
     },
     "metadata": {
      "needs_background": "light"
     },
     "output_type": "display_data"
    }
   ],
   "source": [
    "pd.Series(np.random.uniform(1,10,1000)).plot(kind='hist', bins=100)"
   ]
  },
  {
   "cell_type": "code",
   "execution_count": null,
   "id": "5139ef61",
   "metadata": {
    "colab": {
     "base_uri": "https://localhost:8080/"
    },
    "executionInfo": {
     "elapsed": 256,
     "status": "ok",
     "timestamp": 1644240850407,
     "user": {
      "displayName": "Yaheaal",
      "photoUrl": "https://lh3.googleusercontent.com/a-/AOh14GgoE49Jj8XRaT0ZkUB-uc5rP5cDV-d6ZY1nv6xY=s64",
      "userId": "00430625077795301584"
     },
     "user_tz": -120
    },
    "id": "5139ef61",
    "outputId": "7a9c4a3a-167d-41e6-9560-c5cd1a91af04"
   },
   "outputs": [
    {
     "name": "stdout",
     "output_type": "stream",
     "text": [
      "[[0.04291911 0.31901979 0.34386324]\n",
      " [0.92023685 0.63309663 0.03410104]]\n"
     ]
    }
   ],
   "source": [
    "a = np.random.random((2,3))\n",
    "print(a)"
   ]
  },
  {
   "cell_type": "code",
   "execution_count": null,
   "id": "c00b7256",
   "metadata": {
    "colab": {
     "base_uri": "https://localhost:8080/"
    },
    "executionInfo": {
     "elapsed": 282,
     "status": "ok",
     "timestamp": 1644240853628,
     "user": {
      "displayName": "Yaheaal",
      "photoUrl": "https://lh3.googleusercontent.com/a-/AOh14GgoE49Jj8XRaT0ZkUB-uc5rP5cDV-d6ZY1nv6xY=s64",
      "userId": "00430625077795301584"
     },
     "user_tz": -120
    },
    "id": "c00b7256",
    "outputId": "f84456dd-0ba3-4ac8-f56f-9fb0ac4b641c"
   },
   "outputs": [
    {
     "name": "stdout",
     "output_type": "stream",
     "text": [
      "[-0.11321818  0.63054092  2.02728151  1.05309558 -0.79583658  1.57280699\n",
      "  1.22336085 -0.40390086  0.71251559  0.66507598]\n"
     ]
    }
   ],
   "source": [
    "a = np.random.normal(0,1,10)\n",
    "print(a)"
   ]
  },
  {
   "cell_type": "code",
   "execution_count": 72,
   "id": "23cdb953-6a0a-49a6-abb3-3aabde6128e1",
   "metadata": {},
   "outputs": [
    {
     "data": {
      "text/plain": [
       "array([[164.40219555, 158.48913642, 184.44801175, 151.52464048,\n",
       "        154.57181325, 176.90552438, 172.36561415, 146.05814   ,\n",
       "        185.37048352, 176.90478077],\n",
       "       [180.67017789, 169.2766567 , 159.84710731, 185.36967284,\n",
       "        159.5975199 , 165.46290858, 171.82750938, 154.91417314,\n",
       "        188.08465675, 185.23060504],\n",
       "       [147.91614411, 193.91579727, 165.56139969, 165.44203715,\n",
       "        161.50912535, 157.89677343, 154.59474021, 142.66645856,\n",
       "        164.07789349, 158.74459336],\n",
       "       [179.61320696, 174.16707671, 161.05047892, 180.46843992,\n",
       "        146.23183827, 162.84626983, 161.57863779, 181.44487064,\n",
       "        174.3705059 , 174.84716046],\n",
       "       [167.51961541, 176.06571939, 170.47184267, 179.90639333,\n",
       "        140.94960316, 149.1828761 , 152.69094427, 176.92428535,\n",
       "        185.60300214, 178.29923029]])"
      ]
     },
     "execution_count": 72,
     "metadata": {},
     "output_type": "execute_result"
    }
   ],
   "source": [
    "np.random.normal(loc=170, scale=15, size=(5,10))"
   ]
  },
  {
   "cell_type": "code",
   "execution_count": 73,
   "id": "94048c29-7102-470b-86c2-94b7438729e1",
   "metadata": {},
   "outputs": [
    {
     "data": {
      "text/plain": [
       "array([[50,  8,  8,  8, 50,  8,  8,  1,  8,  9],\n",
       "       [ 1, 50, 50,  1,  1,  1,  1, 50, 50,  1],\n",
       "       [ 1,  9,  9,  9,  8,  8,  8,  9,  9, 50],\n",
       "       [ 9, 50,  9, 50,  1, 50,  8,  1, 50, 50],\n",
       "       [50,  8,  8, 50,  1, 50,  9, 50,  9,  9]])"
      ]
     },
     "execution_count": 73,
     "metadata": {},
     "output_type": "execute_result"
    }
   ],
   "source": [
    "np.random.choice([1,50,8,9], size=(5,10))"
   ]
  },
  {
   "cell_type": "code",
   "execution_count": null,
   "id": "L-MCU9reZF7v",
   "metadata": {
    "colab": {
     "base_uri": "https://localhost:8080/",
     "height": 283
    },
    "executionInfo": {
     "elapsed": 693,
     "status": "ok",
     "timestamp": 1644240863744,
     "user": {
      "displayName": "Yaheaal",
      "photoUrl": "https://lh3.googleusercontent.com/a-/AOh14GgoE49Jj8XRaT0ZkUB-uc5rP5cDV-d6ZY1nv6xY=s64",
      "userId": "00430625077795301584"
     },
     "user_tz": -120
    },
    "id": "L-MCU9reZF7v",
    "outputId": "0e81fd74-a141-4c42-ad03-5eb1bdd13ee0"
   },
   "outputs": [
    {
     "data": {
      "text/plain": [
       "<matplotlib.axes._subplots.AxesSubplot at 0x7ff63a39acd0>"
      ]
     },
     "execution_count": 51,
     "metadata": {},
     "output_type": "execute_result"
    },
    {
     "data": {
      "image/png": "[encoded data removed]",
      "text/plain": [
       "<Figure size 432x288 with 1 Axes>"
      ]
     },
     "metadata": {
      "needs_background": "light"
     },
     "output_type": "display_data"
    }
   ],
   "source": [
    "pd.Series(np.random.normal(1,10,1000)).plot(kind='hist', bins=100)"
   ]
  },
  {
   "cell_type": "code",
   "execution_count": null,
   "id": "2aa77d96",
   "metadata": {
    "colab": {
     "base_uri": "https://localhost:8080/"
    },
    "executionInfo": {
     "elapsed": 266,
     "status": "ok",
     "timestamp": 1644241071088,
     "user": {
      "displayName": "Yaheaal",
      "photoUrl": "https://lh3.googleusercontent.com/a-/AOh14GgoE49Jj8XRaT0ZkUB-uc5rP5cDV-d6ZY1nv6xY=s64",
      "userId": "00430625077795301584"
     },
     "user_tz": -120
    },
    "id": "2aa77d96",
    "outputId": "3cb960b5-1d36-41e1-a819-d6f6a6db6099"
   },
   "outputs": [
    {
     "name": "stdout",
     "output_type": "stream",
     "text": [
      "93\n",
      "[[1 5 2]\n",
      " [6 8 4]\n",
      " [4 7 3]]\n"
     ]
    }
   ],
   "source": [
    "a = np.random.randint(150)\n",
    "b = np.random.randint(1, 10, size=(3,3))\n",
    "\n",
    "print(a)\n",
    "print(b)"
   ]
  },
  {
   "cell_type": "code",
   "execution_count": 70,
   "id": "6a2802b6-e463-4e70-b723-f8818a725774",
   "metadata": {},
   "outputs": [
    {
     "data": {
      "text/plain": [
       "array([[5, 5, 4, 6, 3, 6, 5, 3, 3, 4],\n",
       "       [4, 6, 8, 6, 4, 5, 9, 4, 3, 4],\n",
       "       [2, 6, 5, 5, 5, 3, 5, 7, 5, 4],\n",
       "       [5, 7, 4, 7, 6, 1, 5, 3, 4, 6],\n",
       "       [1, 5, 6, 5, 5, 3, 5, 5, 7, 6]])"
      ]
     },
     "execution_count": 70,
     "metadata": {},
     "output_type": "execute_result"
    }
   ],
   "source": [
    "np.random.binomial(10, p=0.5, size=(5, 10))"
   ]
  },
  {
   "cell_type": "code",
   "execution_count": null,
   "id": "a0fb9f22",
   "metadata": {
    "colab": {
     "base_uri": "https://localhost:8080/"
    },
    "executionInfo": {
     "elapsed": 24,
     "status": "ok",
     "timestamp": 1644053665966,
     "user": {
      "displayName": "Yaheaal",
      "photoUrl": "https://lh3.googleusercontent.com/a-/AOh14GgoE49Jj8XRaT0ZkUB-uc5rP5cDV-d6ZY1nv6xY=s64",
      "userId": "00430625077795301584"
     },
     "user_tz": -120
    },
    "id": "a0fb9f22",
    "outputId": "2f21d14d-1c10-4e74-bbef-e08555d2d444"
   },
   "outputs": [
    {
     "name": "stdout",
     "output_type": "stream",
     "text": [
      "(3, 3)\n",
      "9\n"
     ]
    }
   ],
   "source": [
    "print(b.shape)\n",
    "print(b.size)"
   ]
  },
  {
   "cell_type": "code",
   "execution_count": null,
   "id": "ySMbhLuKaICB",
   "metadata": {
    "colab": {
     "base_uri": "https://localhost:8080/"
    },
    "executionInfo": {
     "elapsed": 352,
     "status": "ok",
     "timestamp": 1644241145989,
     "user": {
      "displayName": "Yaheaal",
      "photoUrl": "https://lh3.googleusercontent.com/a-/AOh14GgoE49Jj8XRaT0ZkUB-uc5rP5cDV-d6ZY1nv6xY=s64",
      "userId": "00430625077795301584"
     },
     "user_tz": -120
    },
    "id": "ySMbhLuKaICB",
    "outputId": "8c605a6c-fe47-44cc-8203-4991c41353fe"
   },
   "outputs": [
    {
     "data": {
      "text/plain": [
       "9"
      ]
     },
     "execution_count": 55,
     "metadata": {},
     "output_type": "execute_result"
    }
   ],
   "source": [
    "b.shape[0] * b.shape[1]"
   ]
  },
  {
   "cell_type": "code",
   "execution_count": null,
   "id": "bfc4c34c",
   "metadata": {
    "colab": {
     "base_uri": "https://localhost:8080/"
    },
    "executionInfo": {
     "elapsed": 349,
     "status": "ok",
     "timestamp": 1644241197580,
     "user": {
      "displayName": "Yaheaal",
      "photoUrl": "https://lh3.googleusercontent.com/a-/AOh14GgoE49Jj8XRaT0ZkUB-uc5rP5cDV-d6ZY1nv6xY=s64",
      "userId": "00430625077795301584"
     },
     "user_tz": -120
    },
    "id": "bfc4c34c",
    "outputId": "060fc471-1ba2-471b-bbf5-a4c568e5718f"
   },
   "outputs": [
    {
     "data": {
      "text/plain": [
       "(1, 9)"
      ]
     },
     "execution_count": 59,
     "metadata": {},
     "output_type": "execute_result"
    }
   ],
   "source": [
    "b.reshape(1,9).shape"
   ]
  },
  {
   "cell_type": "code",
   "execution_count": null,
   "id": "95cbeb3e",
   "metadata": {
    "colab": {
     "base_uri": "https://localhost:8080/"
    },
    "executionInfo": {
     "elapsed": 2,
     "status": "ok",
     "timestamp": 1644241238872,
     "user": {
      "displayName": "Yaheaal",
      "photoUrl": "https://lh3.googleusercontent.com/a-/AOh14GgoE49Jj8XRaT0ZkUB-uc5rP5cDV-d6ZY1nv6xY=s64",
      "userId": "00430625077795301584"
     },
     "user_tz": -120
    },
    "id": "95cbeb3e",
    "outputId": "304d574e-7952-4a3e-c777-2a6bd1a299b4"
   },
   "outputs": [
    {
     "name": "stdout",
     "output_type": "stream",
     "text": [
      "[0.73656838 0.69175097 0.92653797 0.62031304 0.0939978  0.66944655\n",
      " 0.86197428 0.90932335 0.34795435 0.13754276 0.24622205 0.45282765\n",
      " 0.64122559 0.79843002 0.37351096]\n"
     ]
    }
   ],
   "source": [
    "a = np.random.rand(15)\n",
    "print(a)"
   ]
  },
  {
   "cell_type": "code",
   "execution_count": null,
   "id": "2c08e25a",
   "metadata": {
    "colab": {
     "base_uri": "https://localhost:8080/"
    },
    "executionInfo": {
     "elapsed": 289,
     "status": "ok",
     "timestamp": 1644242450851,
     "user": {
      "displayName": "Yaheaal",
      "photoUrl": "https://lh3.googleusercontent.com/a-/AOh14GgoE49Jj8XRaT0ZkUB-uc5rP5cDV-d6ZY1nv6xY=s64",
      "userId": "00430625077795301584"
     },
     "user_tz": -120
    },
    "id": "2c08e25a",
    "outputId": "1fabb600-d759-41ae-eea4-1e03665e137b"
   },
   "outputs": [
    {
     "name": "stdout",
     "output_type": "stream",
     "text": [
      "5\n"
     ]
    }
   ],
   "source": [
    "y=[1,2,3,6,9,8,5,4,7,8,9,6,5,9,6]\n",
    "a = np.random.choice(y)\n",
    "print(a)"
   ]
  },
  {
   "cell_type": "code",
   "execution_count": null,
   "id": "130097e9",
   "metadata": {
    "colab": {
     "base_uri": "https://localhost:8080/"
    },
    "executionInfo": {
     "elapsed": 2,
     "status": "ok",
     "timestamp": 1644242452591,
     "user": {
      "displayName": "Yaheaal",
      "photoUrl": "https://lh3.googleusercontent.com/a-/AOh14GgoE49Jj8XRaT0ZkUB-uc5rP5cDV-d6ZY1nv6xY=s64",
      "userId": "00430625077795301584"
     },
     "user_tz": -120
    },
    "id": "130097e9",
    "outputId": "fe8f652c-a11e-4248-95f5-eff2027f9fd3"
   },
   "outputs": [
    {
     "name": "stdout",
     "output_type": "stream",
     "text": [
      "[1, 2, 3, 6, 9, 8, 5, 4, 7, 8, 9, 6, 5, 9, 6]\n"
     ]
    }
   ],
   "source": [
    "print(y)"
   ]
  },
  {
   "cell_type": "code",
   "execution_count": null,
   "id": "71183d8a",
   "metadata": {
    "id": "71183d8a"
   },
   "outputs": [],
   "source": [
    "np.random.shuffle(y)"
   ]
  },
  {
   "cell_type": "code",
   "execution_count": null,
   "id": "c4de5014",
   "metadata": {
    "colab": {
     "base_uri": "https://localhost:8080/"
    },
    "executionInfo": {
     "elapsed": 3,
     "status": "ok",
     "timestamp": 1644242464005,
     "user": {
      "displayName": "Yaheaal",
      "photoUrl": "https://lh3.googleusercontent.com/a-/AOh14GgoE49Jj8XRaT0ZkUB-uc5rP5cDV-d6ZY1nv6xY=s64",
      "userId": "00430625077795301584"
     },
     "user_tz": -120
    },
    "id": "c4de5014",
    "outputId": "7fb88244-5940-4072-9a0b-ef70292737c8"
   },
   "outputs": [
    {
     "name": "stdout",
     "output_type": "stream",
     "text": [
      "[1, 5, 8, 6, 9, 7, 6, 5, 4, 3, 9, 8, 6, 9, 2]\n"
     ]
    }
   ],
   "source": [
    "print(y)"
   ]
  },
  {
   "cell_type": "code",
   "execution_count": null,
   "id": "NLfJByh6a_Go",
   "metadata": {
    "colab": {
     "base_uri": "https://localhost:8080/"
    },
    "executionInfo": {
     "elapsed": 2,
     "status": "ok",
     "timestamp": 1644241361317,
     "user": {
      "displayName": "Yaheaal",
      "photoUrl": "https://lh3.googleusercontent.com/a-/AOh14GgoE49Jj8XRaT0ZkUB-uc5rP5cDV-d6ZY1nv6xY=s64",
      "userId": "00430625077795301584"
     },
     "user_tz": -120
    },
    "id": "NLfJByh6a_Go",
    "outputId": "4fc89f23-c282-4101-ec07-44e6451090b4"
   },
   "outputs": [
    {
     "data": {
      "text/plain": [
       "array([[0.91467636, 0.5478315 ]])"
      ]
     },
     "execution_count": 71,
     "metadata": {},
     "output_type": "execute_result"
    }
   ],
   "source": [
    "np.random.random((1,2))"
   ]
  },
  {
   "cell_type": "code",
   "execution_count": null,
   "id": "l2FAClI7a_w2",
   "metadata": {
    "colab": {
     "base_uri": "https://localhost:8080/"
    },
    "executionInfo": {
     "elapsed": 3,
     "status": "ok",
     "timestamp": 1644241367333,
     "user": {
      "displayName": "Yaheaal",
      "photoUrl": "https://lh3.googleusercontent.com/a-/AOh14GgoE49Jj8XRaT0ZkUB-uc5rP5cDV-d6ZY1nv6xY=s64",
      "userId": "00430625077795301584"
     },
     "user_tz": -120
    },
    "id": "l2FAClI7a_w2",
    "outputId": "d1802384-d747-48e7-aed1-99aadfe7e751"
   },
   "outputs": [
    {
     "data": {
      "text/plain": [
       "array([[0.53443132, 0.30337856]])"
      ]
     },
     "execution_count": 72,
     "metadata": {},
     "output_type": "execute_result"
    }
   ],
   "source": [
    "np.random.rand(1,2)"
   ]
  },
  {
   "cell_type": "markdown",
   "id": "6d40f2c3",
   "metadata": {
    "id": "6d40f2c3"
   },
   "source": [
    "# Create arrays"
   ]
  },
  {
   "cell_type": "code",
   "execution_count": 9,
   "id": "bb47838b",
   "metadata": {
    "colab": {
     "base_uri": "https://localhost:8080/"
    },
    "executionInfo": {
     "elapsed": 22,
     "status": "ok",
     "timestamp": 1644053665970,
     "user": {
      "displayName": "Yaheaal",
      "photoUrl": "https://lh3.googleusercontent.com/a-/AOh14GgoE49Jj8XRaT0ZkUB-uc5rP5cDV-d6ZY1nv6xY=s64",
      "userId": "00430625077795301584"
     },
     "user_tz": -120
    },
    "id": "bb47838b",
    "outputId": "aac0e506-9161-4964-a5d0-274a32016275"
   },
   "outputs": [
    {
     "name": "stdout",
     "output_type": "stream",
     "text": [
      "[0. 0. 0.]\n",
      "[1. 1. 1. 1. 1. 1. 1. 1. 1. 1.]\n"
     ]
    }
   ],
   "source": [
    "a = np.zeros(3)\n",
    "b = np.ones(10)\n",
    "\n",
    "print(a)\n",
    "print(b)"
   ]
  },
  {
   "cell_type": "code",
   "execution_count": 7,
   "id": "1d46fd99-3191-4510-b893-d4bed924002f",
   "metadata": {},
   "outputs": [
    {
     "data": {
      "text/plain": [
       "numpy.ndarray"
      ]
     },
     "execution_count": 7,
     "metadata": {},
     "output_type": "execute_result"
    }
   ],
   "source": [
    "type(a)"
   ]
  },
  {
   "cell_type": "code",
   "execution_count": 8,
   "id": "3850e2f2-61f8-4a3b-a563-7b7bd5beecf8",
   "metadata": {},
   "outputs": [
    {
     "data": {
      "text/plain": [
       "numpy.float64"
      ]
     },
     "execution_count": 8,
     "metadata": {},
     "output_type": "execute_result"
    }
   ],
   "source": [
    "type(a[0])"
   ]
  },
  {
   "cell_type": "code",
   "execution_count": 10,
   "id": "2746f197-7309-491c-bd2b-f78544d11c40",
   "metadata": {},
   "outputs": [
    {
     "data": {
      "text/plain": [
       "(3,)"
      ]
     },
     "execution_count": 10,
     "metadata": {},
     "output_type": "execute_result"
    }
   ],
   "source": [
    "a.shape"
   ]
  },
  {
   "cell_type": "code",
   "execution_count": 11,
   "id": "c925f570-8d06-4518-8728-ff7dcc273725",
   "metadata": {},
   "outputs": [],
   "source": [
    "a.shape = (3,1)"
   ]
  },
  {
   "cell_type": "code",
   "execution_count": 19,
   "id": "d7e823d3-b355-4bdf-b54a-2961cf903609",
   "metadata": {},
   "outputs": [
    {
     "data": {
      "text/plain": [
       "array([0., 0., 0.])"
      ]
     },
     "execution_count": 19,
     "metadata": {},
     "output_type": "execute_result"
    }
   ],
   "source": [
    "np.empty(3)"
   ]
  },
  {
   "cell_type": "code",
   "execution_count": 20,
   "id": "72ad2713-dfb9-4754-bbd5-79e38a21e8cb",
   "metadata": {},
   "outputs": [
    {
     "data": {
      "text/plain": [
       "array([ 2.,  4.,  6.,  8., 10.])"
      ]
     },
     "execution_count": 20,
     "metadata": {},
     "output_type": "execute_result"
    }
   ],
   "source": [
    "# create elements from 2 till 10 and make them 5 elements\n",
    "np.linspace(2,10,5)"
   ]
  },
  {
   "cell_type": "code",
   "execution_count": 22,
   "id": "56c0f1db-09fd-486e-a69f-675840b7ba6e",
   "metadata": {},
   "outputs": [
    {
     "data": {
      "text/plain": [
       "array([ 2.        ,  4.66666667,  7.33333333, 10.        ])"
      ]
     },
     "execution_count": 22,
     "metadata": {},
     "output_type": "execute_result"
    }
   ],
   "source": [
    "np.linspace(2,10,4)"
   ]
  },
  {
   "cell_type": "code",
   "execution_count": 24,
   "id": "5d3504b8-2f7b-4991-99d8-17f74e0c53e3",
   "metadata": {},
   "outputs": [
    {
     "name": "stdout",
     "output_type": "stream",
     "text": [
      "[1 2 3]\n"
     ]
    },
    {
     "data": {
      "text/plain": [
       "numpy.ndarray"
      ]
     },
     "execution_count": 24,
     "metadata": {},
     "output_type": "execute_result"
    }
   ],
   "source": [
    "# array -> numpay array\n",
    "my_arr = np.array([1,2,3])\n",
    "print(my_arr)\n",
    "type(my_arr)"
   ]
  },
  {
   "cell_type": "code",
   "execution_count": 29,
   "id": "d1df7e80-45ce-4c71-9df9-734caedf6a45",
   "metadata": {},
   "outputs": [
    {
     "data": {
      "text/plain": [
       "array([[1, 2, 1],\n",
       "       [2, 3, 1]])"
      ]
     },
     "execution_count": 29,
     "metadata": {},
     "output_type": "execute_result"
    }
   ],
   "source": [
    "# 2D\n",
    "tow_d = np.array([[1,2,1],[2,3,1]])\n",
    "tow_d"
   ]
  },
  {
   "cell_type": "code",
   "execution_count": 30,
   "id": "896c365d-1cec-4606-b717-b8767b4a47fb",
   "metadata": {},
   "outputs": [
    {
     "data": {
      "text/plain": [
       "(2, 3)"
      ]
     },
     "execution_count": 30,
     "metadata": {},
     "output_type": "execute_result"
    }
   ],
   "source": [
    "tow_d.shape"
   ]
  },
  {
   "cell_type": "code",
   "execution_count": 31,
   "id": "2fc9c2d0-bfa2-4767-8ccd-bfed4121ceef",
   "metadata": {},
   "outputs": [
    {
     "data": {
      "text/plain": [
       "\u001b[0;31mType:\u001b[0m        ndarray\n",
       "\u001b[0;31mString form:\u001b[0m\n",
       "[[1 2 1]\n",
       " [2 3 1]]\n",
       "\u001b[0;31mLength:\u001b[0m      2\n",
       "\u001b[0;31mFile:\u001b[0m        ~/.local/lib/python3.10/site-packages/numpy/__init__.py\n",
       "\u001b[0;31mDocstring:\u001b[0m  \n",
       "ndarray(shape, dtype=float, buffer=None, offset=0,\n",
       "        strides=None, order=None)\n",
       "\n",
       "An array object represents a multidimensional, homogeneous array\n",
       "of fixed-size items.  An associated data-type object describes the\n",
       "format of each element in the array (its byte-order, how many bytes it\n",
       "occupies in memory, whether it is an integer, a floating point number,\n",
       "or something else, etc.)\n",
       "\n",
       "Arrays should be constructed using `array`, `zeros` or `empty` (refer\n",
       "to the See Also section below).  The parameters given here refer to\n",
       "a low-level method (`ndarray(...)`) for instantiating an array.\n",
       "\n",
       "For more information, refer to the `numpy` module and examine the\n",
       "methods and attributes of an array.\n",
       "\n",
       "Parameters\n",
       "----------\n",
       "(for the __new__ method; see Notes below)\n",
       "\n",
       "shape : tuple of ints\n",
       "    Shape of created array.\n",
       "dtype : data-type, optional\n",
       "    Any object that can be interpreted as a numpy data type.\n",
       "buffer : object exposing buffer interface, optional\n",
       "    Used to fill the array with data.\n",
       "offset : int, optional\n",
       "    Offset of array data in buffer.\n",
       "strides : tuple of ints, optional\n",
       "    Strides of data in memory.\n",
       "order : {'C', 'F'}, optional\n",
       "    Row-major (C-style) or column-major (Fortran-style) order.\n",
       "\n",
       "Attributes\n",
       "----------\n",
       "T : ndarray\n",
       "    Transpose of the array.\n",
       "data : buffer\n",
       "    The array's elements, in memory.\n",
       "dtype : dtype object\n",
       "    Describes the format of the elements in the array.\n",
       "flags : dict\n",
       "    Dictionary containing information related to memory use, e.g.,\n",
       "    'C_CONTIGUOUS', 'OWNDATA', 'WRITEABLE', etc.\n",
       "flat : numpy.flatiter object\n",
       "    Flattened version of the array as an iterator.  The iterator\n",
       "    allows assignments, e.g., ``x.flat = 3`` (See `ndarray.flat` for\n",
       "    assignment examples; TODO).\n",
       "imag : ndarray\n",
       "    Imaginary part of the array.\n",
       "real : ndarray\n",
       "    Real part of the array.\n",
       "size : int\n",
       "    Number of elements in the array.\n",
       "itemsize : int\n",
       "    The memory use of each array element in bytes.\n",
       "nbytes : int\n",
       "    The total number of bytes required to store the array data,\n",
       "    i.e., ``itemsize * size``.\n",
       "ndim : int\n",
       "    The array's number of dimensions.\n",
       "shape : tuple of ints\n",
       "    Shape of the array.\n",
       "strides : tuple of ints\n",
       "    The step-size required to move from one element to the next in\n",
       "    memory. For example, a contiguous ``(3, 4)`` array of type\n",
       "    ``int16`` in C-order has strides ``(8, 2)``.  This implies that\n",
       "    to move from element to element in memory requires jumps of 2 bytes.\n",
       "    To move from row-to-row, one needs to jump 8 bytes at a time\n",
       "    (``2 * 4``).\n",
       "ctypes : ctypes object\n",
       "    Class containing properties of the array needed for interaction\n",
       "    with ctypes.\n",
       "base : ndarray\n",
       "    If the array is a view into another array, that array is its `base`\n",
       "    (unless that array is also a view).  The `base` array is where the\n",
       "    array data is actually stored.\n",
       "\n",
       "See Also\n",
       "--------\n",
       "array : Construct an array.\n",
       "zeros : Create an array, each element of which is zero.\n",
       "empty : Create an array, but leave its allocated memory unchanged (i.e.,\n",
       "        it contains \"garbage\").\n",
       "dtype : Create a data-type.\n",
       "numpy.typing.NDArray : An ndarray alias :term:`generic <generic type>`\n",
       "                       w.r.t. its `dtype.type <numpy.dtype.type>`.\n",
       "\n",
       "Notes\n",
       "-----\n",
       "There are two modes of creating an array using ``__new__``:\n",
       "\n",
       "1. If `buffer` is None, then only `shape`, `dtype`, and `order`\n",
       "   are used.\n",
       "2. If `buffer` is an object exposing the buffer interface, then\n",
       "   all keywords are interpreted.\n",
       "\n",
       "No ``__init__`` method is needed because the array is fully initialized\n",
       "after the ``__new__`` method.\n",
       "\n",
       "Examples\n",
       "--------\n",
       "These examples illustrate the low-level `ndarray` constructor.  Refer\n",
       "to the `See Also` section above for easier ways of constructing an\n",
       "ndarray.\n",
       "\n",
       "First mode, `buffer` is None:\n",
       "\n",
       ">>> np.ndarray(shape=(2,2), dtype=float, order='F')\n",
       "array([[0.0e+000, 0.0e+000], # random\n",
       "       [     nan, 2.5e-323]])\n",
       "\n",
       "Second mode:\n",
       "\n",
       ">>> np.ndarray((2,), buffer=np.array([1,2,3]),\n",
       "...            offset=np.int_().itemsize,\n",
       "...            dtype=int) # offset = 1*itemsize, i.e. skip first element\n",
       "array([2, 3])"
      ]
     },
     "metadata": {},
     "output_type": "display_data"
    }
   ],
   "source": [
    "?tow_d"
   ]
  },
  {
   "cell_type": "code",
   "execution_count": null,
   "id": "8ee089ec-170a-4043-b3aa-5efc6bafd8bb",
   "metadata": {},
   "outputs": [],
   "source": [
    "tow_d."
   ]
  },
  {
   "cell_type": "code",
   "execution_count": null,
   "id": "9e950c2f",
   "metadata": {
    "colab": {
     "base_uri": "https://localhost:8080/"
    },
    "executionInfo": {
     "elapsed": 252,
     "status": "ok",
     "timestamp": 1644241676607,
     "user": {
      "displayName": "Yaheaal",
      "photoUrl": "https://lh3.googleusercontent.com/a-/AOh14GgoE49Jj8XRaT0ZkUB-uc5rP5cDV-d6ZY1nv6xY=s64",
      "userId": "00430625077795301584"
     },
     "user_tz": -120
    },
    "id": "9e950c2f",
    "outputId": "2bcac407-7378-457b-b93e-a9b2a481326e"
   },
   "outputs": [
    {
     "name": "stdout",
     "output_type": "stream",
     "text": [
      "[[1. 0. 0. 0. 0.]\n",
      " [0. 1. 0. 0. 0.]\n",
      " [0. 0. 1. 0. 0.]\n",
      " [0. 0. 0. 1. 0.]\n",
      " [0. 0. 0. 0. 1.]]\n"
     ]
    }
   ],
   "source": [
    "print(np.eye(5))"
   ]
  },
  {
   "cell_type": "code",
   "execution_count": null,
   "id": "cad6d657",
   "metadata": {
    "colab": {
     "base_uri": "https://localhost:8080/"
    },
    "executionInfo": {
     "elapsed": 21,
     "status": "ok",
     "timestamp": 1644053665971,
     "user": {
      "displayName": "Yaheaal",
      "photoUrl": "https://lh3.googleusercontent.com/a-/AOh14GgoE49Jj8XRaT0ZkUB-uc5rP5cDV-d6ZY1nv6xY=s64",
      "userId": "00430625077795301584"
     },
     "user_tz": -120
    },
    "id": "cad6d657",
    "outputId": "b3f84cee-8ecc-4952-d3b6-abb9615482ff"
   },
   "outputs": [
    {
     "name": "stdout",
     "output_type": "stream",
     "text": [
      "[[35 35 35 35 35]\n",
      " [35 35 35 35 35]\n",
      " [35 35 35 35 35]]\n"
     ]
    }
   ],
   "source": [
    "print(np.full((3,5), 35))"
   ]
  },
  {
   "cell_type": "code",
   "execution_count": null,
   "id": "cd1405dc",
   "metadata": {
    "colab": {
     "base_uri": "https://localhost:8080/"
    },
    "executionInfo": {
     "elapsed": 268,
     "status": "ok",
     "timestamp": 1644241832480,
     "user": {
      "displayName": "Yaheaal",
      "photoUrl": "https://lh3.googleusercontent.com/a-/AOh14GgoE49Jj8XRaT0ZkUB-uc5rP5cDV-d6ZY1nv6xY=s64",
      "userId": "00430625077795301584"
     },
     "user_tz": -120
    },
    "id": "cd1405dc",
    "outputId": "f9198c38-7006-4773-f248-f078e2b43b5f"
   },
   "outputs": [
    {
     "name": "stdout",
     "output_type": "stream",
     "text": [
      "[[ 0  1  2  3  4  5]\n",
      " [ 6  7  8  9 10 11]\n",
      " [12 13 14 15 16 17]]\n"
     ]
    }
   ],
   "source": [
    "a = np.arange(18).reshape(3,6)\n",
    "print(a)"
   ]
  },
  {
   "cell_type": "code",
   "execution_count": null,
   "id": "ee4a0435",
   "metadata": {
    "colab": {
     "base_uri": "https://localhost:8080/"
    },
    "executionInfo": {
     "elapsed": 475,
     "status": "ok",
     "timestamp": 1644053666427,
     "user": {
      "displayName": "Yaheaal",
      "photoUrl": "https://lh3.googleusercontent.com/a-/AOh14GgoE49Jj8XRaT0ZkUB-uc5rP5cDV-d6ZY1nv6xY=s64",
      "userId": "00430625077795301584"
     },
     "user_tz": -120
    },
    "id": "ee4a0435",
    "outputId": "bcc4b606-3855-4e30-aa59-ceebf7ebc1d0"
   },
   "outputs": [
    {
     "name": "stdout",
     "output_type": "stream",
     "text": [
      "[  0.  25.  50.  75. 100.]\n"
     ]
    }
   ],
   "source": [
    "l = np.linspace(0, 100, 5)\n",
    "print(l)"
   ]
  },
  {
   "cell_type": "code",
   "execution_count": 3,
   "id": "5eb0a788-b491-4f03-88f2-7a70824a3211",
   "metadata": {},
   "outputs": [
    {
     "data": {
      "text/plain": [
       "array([[5, 5],\n",
       "       [5, 5]])"
      ]
     },
     "execution_count": 3,
     "metadata": {},
     "output_type": "execute_result"
    }
   ],
   "source": [
    "# full array with numbers\n",
    "np.full((2,2), 5)"
   ]
  },
  {
   "cell_type": "markdown",
   "id": "e9e041bf-7811-49c7-9311-ddf4f2bb4388",
   "metadata": {},
   "source": [
    "# spitial values"
   ]
  },
  {
   "cell_type": "code",
   "execution_count": 6,
   "id": "110b165a-9a65-4138-8b9b-064a222c6205",
   "metadata": {},
   "outputs": [
    {
     "data": {
      "text/plain": [
       "inf"
      ]
     },
     "execution_count": 6,
     "metadata": {},
     "output_type": "execute_result"
    }
   ],
   "source": [
    "# infinate\n",
    "np.inf"
   ]
  },
  {
   "cell_type": "code",
   "execution_count": 4,
   "id": "d75a6dfc-c62f-405b-9a5e-550e9835457d",
   "metadata": {},
   "outputs": [
    {
     "data": {
      "text/plain": [
       "nan"
      ]
     },
     "execution_count": 4,
     "metadata": {},
     "output_type": "execute_result"
    }
   ],
   "source": [
    "# nan\n",
    "np.nan"
   ]
  },
  {
   "cell_type": "code",
   "execution_count": 14,
   "id": "6f74291f-b3df-4194-8e44-1741492989b1",
   "metadata": {},
   "outputs": [
    {
     "name": "stdout",
     "output_type": "stream",
     "text": [
      "True\n",
      "True\n",
      "True\n",
      "[False]\n"
     ]
    },
    {
     "name": "stderr",
     "output_type": "stream",
     "text": [
      "/tmp/ipykernel_6610/651236385.py:2: RuntimeWarning: invalid value encountered in sqrt\n",
      "  print(np.isnan(np.sqrt(-1)))\n",
      "/tmp/ipykernel_6610/651236385.py:4: RuntimeWarning: divide by zero encountered in divide\n",
      "  print(np.isnan(np.array([10]) / 0))\n"
     ]
    }
   ],
   "source": [
    "print(np.isnan(np.nan))\n",
    "print(np.isnan(np.sqrt(-1)))\n",
    "print(np.isinf(np.inf))\n",
    "print(np.isnan(np.array([10]) / 0))"
   ]
  },
  {
   "cell_type": "markdown",
   "id": "63dab0a9-2bd2-4b1f-b16f-8359338766e8",
   "metadata": {},
   "source": [
    "# work with array"
   ]
  },
  {
   "cell_type": "code",
   "execution_count": 20,
   "id": "009395b1-5c75-4e76-a122-9bf54889fcba",
   "metadata": {},
   "outputs": [
    {
     "name": "stdout",
     "output_type": "stream",
     "text": [
      "[1 2 3 7 8 9]\n",
      "[1 2 3]\n"
     ]
    }
   ],
   "source": [
    "a = np.array([1,2,3])\n",
    "# it will not change a it will retrun new array, you have to save it back\n",
    "print(np.append(a, [7,8,9]))\n",
    "print(a)"
   ]
  },
  {
   "cell_type": "code",
   "execution_count": 16,
   "id": "2c80e196-127b-4934-b965-d8d5f5dbc13e",
   "metadata": {},
   "outputs": [
    {
     "data": {
      "text/plain": [
       "array([1, 2, 3, 7, 4, 4, 4, 4, 8, 9])"
      ]
     },
     "execution_count": 16,
     "metadata": {},
     "output_type": "execute_result"
    }
   ],
   "source": [
    "np.insert(a, 4, [4,4,4,4])"
   ]
  },
  {
   "cell_type": "code",
   "execution_count": 28,
   "id": "713d1a62-8ce8-4c90-b907-db3455d66d12",
   "metadata": {},
   "outputs": [
    {
     "name": "stdout",
     "output_type": "stream",
     "text": [
      "[1 3 4 5 6]\n",
      "[[1 3]\n",
      " [4 6]]\n",
      "[[1 2 3]]\n"
     ]
    }
   ],
   "source": [
    "b = np.array([[1,2,3],\n",
    "              [4,5,6]])\n",
    "# think that all array is one dim\n",
    "print(np.delete(b, 1))\n",
    "\n",
    "print(np.delete(b, 1,1))\n",
    "print(np.delete(b, 1,0))"
   ]
  },
  {
   "cell_type": "code",
   "execution_count": 30,
   "id": "beac47dc-468d-4cdb-ac6d-bc214453d95f",
   "metadata": {},
   "outputs": [
    {
     "name": "stdout",
     "output_type": "stream",
     "text": [
      "(4, 3)\n",
      "12\n"
     ]
    }
   ],
   "source": [
    "# resize & reshape\n",
    "a = np.array([[1,2,3],\n",
    "              [4,5,6],\n",
    "              [7,8,9],\n",
    "              [10,11,12]])\n",
    "print(a.shape)\n",
    "print(a.size)"
   ]
  },
  {
   "cell_type": "code",
   "execution_count": 36,
   "id": "de79203f-0350-474c-84e5-320fd694d9a9",
   "metadata": {},
   "outputs": [
    {
     "data": {
      "text/plain": [
       "array([[ 1,  2,  3,  4,  5,  6],\n",
       "       [ 7,  8,  9, 10, 11, 12]])"
      ]
     },
     "execution_count": 36,
     "metadata": {},
     "output_type": "execute_result"
    }
   ],
   "source": [
    "a.reshape((2,6))"
   ]
  },
  {
   "cell_type": "code",
   "execution_count": 41,
   "id": "fa894e9d-0711-43f5-bb0b-31e140cd9998",
   "metadata": {},
   "outputs": [
    {
     "name": "stdout",
     "output_type": "stream",
     "text": [
      "12\n"
     ]
    }
   ],
   "source": [
    "a.resize((2,6))\n",
    "print(a.size)"
   ]
  },
  {
   "cell_type": "code",
   "execution_count": 48,
   "id": "72627d5b-8252-428c-8e3e-4f07b1a4b7c9",
   "metadata": {},
   "outputs": [
    {
     "name": "stdout",
     "output_type": "stream",
     "text": [
      "[ 1  2  3  4  5  6  7  8  9 10 11 12]\n",
      "[[ 1  2  3  4  5  6]\n",
      " [ 7  8  9 10 11 12]]\n",
      "[[ 1  2  3  4  5  6]\n",
      " [ 7  8  9 10 11 12]]\n",
      "[ 1 55  3  4  5  6  7  8  9 10 11 12]\n"
     ]
    }
   ],
   "source": [
    "aa = a.flatten()\n",
    "# it does not change the array\n",
    "print(aa)\n",
    "print(a)\n",
    "\n",
    "aa[1] = 55\n",
    "print(a)\n",
    "print(aa)"
   ]
  },
  {
   "cell_type": "code",
   "execution_count": 49,
   "id": "1d2480df-2382-4ae1-82ce-9da8e3c6bc5e",
   "metadata": {},
   "outputs": [
    {
     "name": "stdout",
     "output_type": "stream",
     "text": [
      "[ 1  2  3  4  5  6  7  8  9 10 11 12]\n",
      "[[ 1  2  3  4  5  6]\n",
      " [ 7  8  9 10 11 12]]\n",
      "[[ 1 55  3  4  5  6]\n",
      " [ 7  8  9 10 11 12]]\n",
      "[ 1 55  3  4  5  6  7  8  9 10 11 12]\n"
     ]
    }
   ],
   "source": [
    "aa = a.ravel()\n",
    "# it does not change the array\n",
    "print(aa)\n",
    "print(a)\n",
    "\n",
    "aa[1] = 55\n",
    "# a will change as well\n",
    "print(a)\n",
    "print(aa)"
   ]
  },
  {
   "cell_type": "code",
   "execution_count": 52,
   "id": "8d3a5932-b6ab-412b-a5da-bd4d1b3b4051",
   "metadata": {},
   "outputs": [
    {
     "data": {
      "text/plain": [
       "array([[1, 2, 3],\n",
       "       [4, 5, 6],\n",
       "       [1, 2, 3],\n",
       "       [4, 5, 6]])"
      ]
     },
     "execution_count": 52,
     "metadata": {},
     "output_type": "execute_result"
    }
   ],
   "source": [
    "a1 = np.array([[1,2,3],\n",
    "               [4,5,6]])\n",
    "a2 = np.array([[1,2,3],\n",
    "               [4,5,6]])\n",
    "np.concatenate((a1, a2))"
   ]
  },
  {
   "cell_type": "code",
   "execution_count": 53,
   "id": "bf80f098-2817-4042-ad82-852651b496ae",
   "metadata": {},
   "outputs": [
    {
     "data": {
      "text/plain": [
       "array([[1, 2, 3, 1, 2, 3],\n",
       "       [4, 5, 6, 4, 5, 6]])"
      ]
     },
     "execution_count": 53,
     "metadata": {},
     "output_type": "execute_result"
    }
   ],
   "source": [
    "np.concatenate((a1, a2), axis=1)"
   ]
  },
  {
   "cell_type": "code",
   "execution_count": 54,
   "id": "9f9da9b5-de96-4406-9398-669708bfe789",
   "metadata": {},
   "outputs": [
    {
     "data": {
      "text/plain": [
       "array([[[1, 2, 3],\n",
       "        [4, 5, 6]],\n",
       "\n",
       "       [[1, 2, 3],\n",
       "        [4, 5, 6]]])"
      ]
     },
     "execution_count": 54,
     "metadata": {},
     "output_type": "execute_result"
    }
   ],
   "source": [
    "np.stack((a1, a2))"
   ]
  },
  {
   "cell_type": "code",
   "execution_count": 55,
   "id": "c7123629-c4d6-4031-9046-5761897ae080",
   "metadata": {},
   "outputs": [
    {
     "data": {
      "text/plain": [
       "array([[1, 2, 3],\n",
       "       [4, 5, 6],\n",
       "       [1, 2, 3],\n",
       "       [4, 5, 6]])"
      ]
     },
     "execution_count": 55,
     "metadata": {},
     "output_type": "execute_result"
    }
   ],
   "source": [
    "np.vstack((a1, a2))"
   ]
  },
  {
   "cell_type": "code",
   "execution_count": 56,
   "id": "e7b79bc8-e286-4da6-b18c-e8c71390c013",
   "metadata": {},
   "outputs": [
    {
     "data": {
      "text/plain": [
       "array([[1, 2, 3, 1, 2, 3],\n",
       "       [4, 5, 6, 4, 5, 6]])"
      ]
     },
     "execution_count": 56,
     "metadata": {},
     "output_type": "execute_result"
    }
   ],
   "source": [
    "np.hstack((a1, a2))"
   ]
  },
  {
   "cell_type": "code",
   "execution_count": 66,
   "id": "ba15978a-2687-491d-b04f-e5c0a5b25e0c",
   "metadata": {},
   "outputs": [
    {
     "name": "stdout",
     "output_type": "stream",
     "text": [
      "[[ 1  2  3  4  5  6  7  8  9 10]\n",
      " [11 12 13 14 15 16 17 18 19 20]\n",
      " [21 22 23 24 25 26 27 28 29 30]\n",
      " [31 32 33 34 35 36 37 38 39 40]\n",
      " [41 42 43 44 45 46 47 48 49 50]]\n"
     ]
    }
   ],
   "source": [
    "big = np.arange(1,51).reshape(5, 10)\n",
    "print(big)"
   ]
  },
  {
   "cell_type": "code",
   "execution_count": 67,
   "id": "1d127da9-b38e-47bc-bb87-353cd03a6ecd",
   "metadata": {},
   "outputs": [
    {
     "data": {
      "text/plain": [
       "[array([[ 1,  2,  3,  4,  5,  6,  7,  8,  9, 10]]),\n",
       " array([[11, 12, 13, 14, 15, 16, 17, 18, 19, 20]]),\n",
       " array([[21, 22, 23, 24, 25, 26, 27, 28, 29, 30]]),\n",
       " array([[31, 32, 33, 34, 35, 36, 37, 38, 39, 40]]),\n",
       " array([[41, 42, 43, 44, 45, 46, 47, 48, 49, 50]])]"
      ]
     },
     "execution_count": 67,
     "metadata": {},
     "output_type": "execute_result"
    }
   ],
   "source": [
    "np.split(big,5, axis=0)"
   ]
  },
  {
   "cell_type": "code",
   "execution_count": 69,
   "id": "f59b7dc9-8d51-4d69-9bcf-2e41e7177d01",
   "metadata": {},
   "outputs": [
    {
     "data": {
      "text/plain": [
       "[array([[ 1,  2],\n",
       "        [11, 12],\n",
       "        [21, 22],\n",
       "        [31, 32],\n",
       "        [41, 42]]),\n",
       " array([[ 3,  4],\n",
       "        [13, 14],\n",
       "        [23, 24],\n",
       "        [33, 34],\n",
       "        [43, 44]]),\n",
       " array([[ 5,  6],\n",
       "        [15, 16],\n",
       "        [25, 26],\n",
       "        [35, 36],\n",
       "        [45, 46]]),\n",
       " array([[ 7,  8],\n",
       "        [17, 18],\n",
       "        [27, 28],\n",
       "        [37, 38],\n",
       "        [47, 48]]),\n",
       " array([[ 9, 10],\n",
       "        [19, 20],\n",
       "        [29, 30],\n",
       "        [39, 40],\n",
       "        [49, 50]])]"
      ]
     },
     "execution_count": 69,
     "metadata": {},
     "output_type": "execute_result"
    }
   ],
   "source": [
    "np.split(big,5, axis=1)"
   ]
  },
  {
   "cell_type": "markdown",
   "id": "f7aee9da-0498-45ba-a09e-566553bb45f3",
   "metadata": {},
   "source": [
    "# Access Arrays"
   ]
  },
  {
   "cell_type": "code",
   "execution_count": 36,
   "id": "ecb3f939-575e-4796-8446-972755715642",
   "metadata": {},
   "outputs": [
    {
     "name": "stdout",
     "output_type": "stream",
     "text": [
      "2\n",
      "[3 4 5]\n",
      "7\n"
     ]
    }
   ],
   "source": [
    "arr = np.array([1,2,3,4,5,6,7])\n",
    "print(arr[1])\n",
    "print(arr[2:5])\n",
    "print(arr[-1])\n"
   ]
  },
  {
   "cell_type": "markdown",
   "id": "b6c23e5a",
   "metadata": {
    "id": "b6c23e5a"
   },
   "source": [
    "# Arrays operations"
   ]
  },
  {
   "cell_type": "code",
   "execution_count": null,
   "id": "137cb8ea",
   "metadata": {
    "id": "137cb8ea"
   },
   "outputs": [],
   "source": [
    "a = np.array([1,2,3])\n",
    "b = np.array([4,5,6])"
   ]
  },
  {
   "cell_type": "code",
   "execution_count": 42,
   "id": "a6870427-a3ec-4d8d-815c-006761bc5ff5",
   "metadata": {},
   "outputs": [
    {
     "data": {
      "text/plain": [
       "array([[False],\n",
       "       [False],\n",
       "       [False]])"
      ]
     },
     "execution_count": 42,
     "metadata": {},
     "output_type": "execute_result"
    }
   ],
   "source": [
    "a > 2"
   ]
  },
  {
   "cell_type": "code",
   "execution_count": 43,
   "id": "8c5396ad-7b24-44c4-9fa1-c2ca16397720",
   "metadata": {
    "scrolled": true
   },
   "outputs": [
    {
     "data": {
      "text/plain": [
       "array([[ True],\n",
       "       [ True],\n",
       "       [ True]])"
      ]
     },
     "execution_count": 43,
     "metadata": {},
     "output_type": "execute_result"
    }
   ],
   "source": [
    "a < 2"
   ]
  },
  {
   "cell_type": "code",
   "execution_count": 46,
   "id": "724b6f4e-597e-44ec-9320-bd6d0fd78313",
   "metadata": {},
   "outputs": [
    {
     "data": {
      "text/plain": [
       "array([], dtype=float64)"
      ]
     },
     "execution_count": 46,
     "metadata": {},
     "output_type": "execute_result"
    }
   ],
   "source": [
    "a[a > 2]"
   ]
  },
  {
   "cell_type": "code",
   "execution_count": null,
   "id": "ad56fba5",
   "metadata": {
    "colab": {
     "base_uri": "https://localhost:8080/"
    },
    "executionInfo": {
     "elapsed": 18,
     "status": "ok",
     "timestamp": 1644053666428,
     "user": {
      "displayName": "Yaheaal",
      "photoUrl": "https://lh3.googleusercontent.com/a-/AOh14GgoE49Jj8XRaT0ZkUB-uc5rP5cDV-d6ZY1nv6xY=s64",
      "userId": "00430625077795301584"
     },
     "user_tz": -120
    },
    "id": "ad56fba5",
    "outputId": "ca5a2918-962b-44d0-c8a4-f312f843af27"
   },
   "outputs": [
    {
     "data": {
      "text/plain": [
       "array([2, 4, 6])"
      ]
     },
     "execution_count": 28,
     "metadata": {},
     "output_type": "execute_result"
    }
   ],
   "source": [
    "a * 2"
   ]
  },
  {
   "cell_type": "code",
   "execution_count": null,
   "id": "bbc64cc5",
   "metadata": {
    "colab": {
     "base_uri": "https://localhost:8080/"
    },
    "executionInfo": {
     "elapsed": 16,
     "status": "ok",
     "timestamp": 1644053666428,
     "user": {
      "displayName": "Yaheaal",
      "photoUrl": "https://lh3.googleusercontent.com/a-/AOh14GgoE49Jj8XRaT0ZkUB-uc5rP5cDV-d6ZY1nv6xY=s64",
      "userId": "00430625077795301584"
     },
     "user_tz": -120
    },
    "id": "bbc64cc5",
    "outputId": "089bce38-a147-43ff-ae39-df2217f91fd3"
   },
   "outputs": [
    {
     "data": {
      "text/plain": [
       "array([-1,  0,  1])"
      ]
     },
     "execution_count": 29,
     "metadata": {},
     "output_type": "execute_result"
    }
   ],
   "source": [
    "a - 2"
   ]
  },
  {
   "cell_type": "code",
   "execution_count": null,
   "id": "f61dd0ea",
   "metadata": {
    "colab": {
     "base_uri": "https://localhost:8080/"
    },
    "executionInfo": {
     "elapsed": 16,
     "status": "ok",
     "timestamp": 1644053666429,
     "user": {
      "displayName": "Yaheaal",
      "photoUrl": "https://lh3.googleusercontent.com/a-/AOh14GgoE49Jj8XRaT0ZkUB-uc5rP5cDV-d6ZY1nv6xY=s64",
      "userId": "00430625077795301584"
     },
     "user_tz": -120
    },
    "id": "f61dd0ea",
    "outputId": "c158d049-b08d-42af-b131-35f093e309be"
   },
   "outputs": [
    {
     "data": {
      "text/plain": [
       "array([ 1,  8, 27])"
      ]
     },
     "execution_count": 30,
     "metadata": {},
     "output_type": "execute_result"
    }
   ],
   "source": [
    "a ** 3"
   ]
  },
  {
   "cell_type": "code",
   "execution_count": null,
   "id": "cfe7dc38",
   "metadata": {
    "colab": {
     "base_uri": "https://localhost:8080/"
    },
    "executionInfo": {
     "elapsed": 283,
     "status": "ok",
     "timestamp": 1644242712426,
     "user": {
      "displayName": "Yaheaal",
      "photoUrl": "https://lh3.googleusercontent.com/a-/AOh14GgoE49Jj8XRaT0ZkUB-uc5rP5cDV-d6ZY1nv6xY=s64",
      "userId": "00430625077795301584"
     },
     "user_tz": -120
    },
    "id": "cfe7dc38",
    "outputId": "ec575261-160a-485d-aa25-95d7f6594dd9"
   },
   "outputs": [
    {
     "data": {
      "text/plain": [
       "array([ 4, 10, 18])"
      ]
     },
     "execution_count": 93,
     "metadata": {},
     "output_type": "execute_result"
    }
   ],
   "source": [
    "a * b"
   ]
  },
  {
   "cell_type": "code",
   "execution_count": null,
   "id": "susUKc9efnmP",
   "metadata": {
    "colab": {
     "base_uri": "https://localhost:8080/"
    },
    "executionInfo": {
     "elapsed": 275,
     "status": "ok",
     "timestamp": 1644242674959,
     "user": {
      "displayName": "Yaheaal",
      "photoUrl": "https://lh3.googleusercontent.com/a-/AOh14GgoE49Jj8XRaT0ZkUB-uc5rP5cDV-d6ZY1nv6xY=s64",
      "userId": "00430625077795301584"
     },
     "user_tz": -120
    },
    "id": "susUKc9efnmP",
    "outputId": "6df272e5-60a8-403f-9938-b78db8f36628"
   },
   "outputs": [
    {
     "data": {
      "text/plain": [
       "32"
      ]
     },
     "execution_count": 92,
     "metadata": {},
     "output_type": "execute_result"
    }
   ],
   "source": [
    "a.dot(b)"
   ]
  },
  {
   "cell_type": "code",
   "execution_count": 55,
   "id": "a67bac19-1ffb-42e4-9f38-b461ca028670",
   "metadata": {},
   "outputs": [
    {
     "name": "stdout",
     "output_type": "stream",
     "text": [
      "[[19 22]\n",
      " [43 50]]\n"
     ]
    }
   ],
   "source": [
    "# Create two NumPy arrays\n",
    "A = np.array([[1, 2], [3, 4]])\n",
    "B = np.array([[5, 6], [7, 8]])\n",
    "\n",
    "# Perform matrix multiplication using the \"@\" symbol\n",
    "result = A @ B\n",
    "\n",
    "print(result)"
   ]
  },
  {
   "cell_type": "code",
   "execution_count": 50,
   "id": "bed074a0-a867-4f3a-8a55-ccde82179031",
   "metadata": {},
   "outputs": [
    {
     "name": "stdout",
     "output_type": "stream",
     "text": [
      "Original Array:\n",
      "[[1 2 3]\n",
      " [4 5 6]]\n",
      "\n",
      "Transposed Array (using .T attribute):\n",
      "[[1 4]\n",
      " [2 5]\n",
      " [3 6]]\n",
      "\n",
      "Transposed Array (using np.transpose() function):\n",
      "[[1 4]\n",
      " [2 5]\n",
      " [3 6]]\n",
      "[[1 4]\n",
      " [2 5]\n",
      " [3 6]]\n"
     ]
    }
   ],
   "source": [
    "# Create a 2D NumPy array\n",
    "arr = np.array([[1, 2, 3],\n",
    "                [4, 5, 6]])\n",
    "\n",
    "# Method 1: Using the .T attribute\n",
    "transposed_arr_1 = arr.T\n",
    "\n",
    "# Method 2: Using np.transpose() function\n",
    "transposed_arr_2 = np.transpose(arr)\n",
    "\n",
    "print(\"Original Array:\")\n",
    "print(arr)\n",
    "print()\n",
    "\n",
    "print(\"Transposed Array (using .T attribute):\")\n",
    "print(transposed_arr_1)\n",
    "print()\n",
    "\n",
    "print(\"Transposed Array (using np.transpose() function):\")\n",
    "print(transposed_arr_2)\n",
    "\n",
    "print(arr.swapaxes(0,1))"
   ]
  },
  {
   "cell_type": "code",
   "execution_count": 54,
   "id": "a9a35469-6632-41df-8e14-45c3b66c3d13",
   "metadata": {},
   "outputs": [
    {
     "data": {
      "text/plain": [
       "array([1, 2, 4])"
      ]
     },
     "execution_count": 54,
     "metadata": {},
     "output_type": "execute_result"
    }
   ],
   "source": [
    "z = np.array([4,2,1])\n",
    "np.sort(z)"
   ]
  },
  {
   "cell_type": "code",
   "execution_count": null,
   "id": "7369d791",
   "metadata": {
    "colab": {
     "base_uri": "https://localhost:8080/"
    },
    "executionInfo": {
     "elapsed": 277,
     "status": "ok",
     "timestamp": 1644242732259,
     "user": {
      "displayName": "Yaheaal",
      "photoUrl": "https://lh3.googleusercontent.com/a-/AOh14GgoE49Jj8XRaT0ZkUB-uc5rP5cDV-d6ZY1nv6xY=s64",
      "userId": "00430625077795301584"
     },
     "user_tz": -120
    },
    "id": "7369d791",
    "outputId": "a5bbd42b-142a-4c5a-ae29-e5498f6a318e"
   },
   "outputs": [
    {
     "data": {
      "text/plain": [
       "array([-3, -3, -3])"
      ]
     },
     "execution_count": 94,
     "metadata": {},
     "output_type": "execute_result"
    }
   ],
   "source": [
    "a - b"
   ]
  },
  {
   "cell_type": "code",
   "execution_count": null,
   "id": "4c9db821",
   "metadata": {
    "colab": {
     "base_uri": "https://localhost:8080/"
    },
    "executionInfo": {
     "elapsed": 257,
     "status": "ok",
     "timestamp": 1644242734454,
     "user": {
      "displayName": "Yaheaal",
      "photoUrl": "https://lh3.googleusercontent.com/a-/AOh14GgoE49Jj8XRaT0ZkUB-uc5rP5cDV-d6ZY1nv6xY=s64",
      "userId": "00430625077795301584"
     },
     "user_tz": -120
    },
    "id": "4c9db821",
    "outputId": "24a8a4f7-db23-4d4f-e357-0db0e318968c"
   },
   "outputs": [
    {
     "data": {
      "text/plain": [
       "array([3, 3, 3])"
      ]
     },
     "execution_count": 95,
     "metadata": {},
     "output_type": "execute_result"
    }
   ],
   "source": [
    "b - a"
   ]
  },
  {
   "cell_type": "code",
   "execution_count": null,
   "id": "b65b1666",
   "metadata": {
    "colab": {
     "base_uri": "https://localhost:8080/"
    },
    "executionInfo": {
     "elapsed": 271,
     "status": "ok",
     "timestamp": 1644242737103,
     "user": {
      "displayName": "Yaheaal",
      "photoUrl": "https://lh3.googleusercontent.com/a-/AOh14GgoE49Jj8XRaT0ZkUB-uc5rP5cDV-d6ZY1nv6xY=s64",
      "userId": "00430625077795301584"
     },
     "user_tz": -120
    },
    "id": "b65b1666",
    "outputId": "4209cc26-26fc-484d-8dc3-584408de9388"
   },
   "outputs": [
    {
     "data": {
      "text/plain": [
       "2"
      ]
     },
     "execution_count": 96,
     "metadata": {},
     "output_type": "execute_result"
    }
   ],
   "source": [
    "a[1]"
   ]
  },
  {
   "cell_type": "code",
   "execution_count": null,
   "id": "1b9ef061",
   "metadata": {
    "colab": {
     "base_uri": "https://localhost:8080/"
    },
    "executionInfo": {
     "elapsed": 335,
     "status": "ok",
     "timestamp": 1644242740816,
     "user": {
      "displayName": "Yaheaal",
      "photoUrl": "https://lh3.googleusercontent.com/a-/AOh14GgoE49Jj8XRaT0ZkUB-uc5rP5cDV-d6ZY1nv6xY=s64",
      "userId": "00430625077795301584"
     },
     "user_tz": -120
    },
    "id": "1b9ef061",
    "outputId": "2e11a047-b7e1-4e89-c363-3ef3d175eae4"
   },
   "outputs": [
    {
     "data": {
      "text/plain": [
       "array([1, 3])"
      ]
     },
     "execution_count": 97,
     "metadata": {},
     "output_type": "execute_result"
    }
   ],
   "source": [
    "a[[0, 2]]"
   ]
  },
  {
   "cell_type": "code",
   "execution_count": null,
   "id": "KOPDCtQpgWvJ",
   "metadata": {
    "colab": {
     "base_uri": "https://localhost:8080/"
    },
    "executionInfo": {
     "elapsed": 4,
     "status": "ok",
     "timestamp": 1644242800697,
     "user": {
      "displayName": "Yaheaal",
      "photoUrl": "https://lh3.googleusercontent.com/a-/AOh14GgoE49Jj8XRaT0ZkUB-uc5rP5cDV-d6ZY1nv6xY=s64",
      "userId": "00430625077795301584"
     },
     "user_tz": -120
    },
    "id": "KOPDCtQpgWvJ",
    "outputId": "82c1ef43-90be-4fad-be4e-cf2c9b1e8f6c"
   },
   "outputs": [
    {
     "data": {
      "text/plain": [
       "10     a\n",
       "100    b\n",
       "2      c\n",
       "dtype: object"
      ]
     },
     "execution_count": 101,
     "metadata": {},
     "output_type": "execute_result"
    }
   ],
   "source": [
    "s = pd.Series(['a', 'b', 'c']).rename(index={0:10, 1:100})\n",
    "s"
   ]
  },
  {
   "cell_type": "code",
   "execution_count": null,
   "id": "4wDGwdWigg_u",
   "metadata": {
    "colab": {
     "base_uri": "https://localhost:8080/",
     "height": 35
    },
    "executionInfo": {
     "elapsed": 272,
     "status": "ok",
     "timestamp": 1644242821206,
     "user": {
      "displayName": "Yaheaal",
      "photoUrl": "https://lh3.googleusercontent.com/a-/AOh14GgoE49Jj8XRaT0ZkUB-uc5rP5cDV-d6ZY1nv6xY=s64",
      "userId": "00430625077795301584"
     },
     "user_tz": -120
    },
    "id": "4wDGwdWigg_u",
    "outputId": "7e9a3cff-d479-40ec-a93a-841b96f443d2"
   },
   "outputs": [
    {
     "data": {
      "application/vnd.google.colaboratory.intrinsic+json": {
       "type": "string"
      },
      "text/plain": [
       "'a'"
      ]
     },
     "execution_count": 103,
     "metadata": {},
     "output_type": "execute_result"
    }
   ],
   "source": [
    "s[10]"
   ]
  },
  {
   "cell_type": "code",
   "execution_count": null,
   "id": "48e1d71a-06da-447e-9383-86f9b198d02f",
   "metadata": {},
   "outputs": [],
   "source": []
  },
  {
   "cell_type": "markdown",
   "id": "05d8dc61",
   "metadata": {
    "id": "05d8dc61"
   },
   "source": [
    "# More functions"
   ]
  },
  {
   "cell_type": "code",
   "execution_count": null,
   "id": "2bf06d59",
   "metadata": {
    "colab": {
     "base_uri": "https://localhost:8080/"
    },
    "executionInfo": {
     "elapsed": 14,
     "status": "ok",
     "timestamp": 1644053666431,
     "user": {
      "displayName": "Yaheaal",
      "photoUrl": "https://lh3.googleusercontent.com/a-/AOh14GgoE49Jj8XRaT0ZkUB-uc5rP5cDV-d6ZY1nv6xY=s64",
      "userId": "00430625077795301584"
     },
     "user_tz": -120
    },
    "id": "2bf06d59",
    "outputId": "d2d74371-958f-4194-888b-2550cfe9a23f"
   },
   "outputs": [
    {
     "data": {
      "text/plain": [
       "1"
      ]
     },
     "execution_count": 36,
     "metadata": {},
     "output_type": "execute_result"
    }
   ],
   "source": [
    "np.min([1,2,3])"
   ]
  },
  {
   "cell_type": "code",
   "execution_count": null,
   "id": "2833d3c4",
   "metadata": {
    "colab": {
     "base_uri": "https://localhost:8080/"
    },
    "executionInfo": {
     "elapsed": 13,
     "status": "ok",
     "timestamp": 1644053666431,
     "user": {
      "displayName": "Yaheaal",
      "photoUrl": "https://lh3.googleusercontent.com/a-/AOh14GgoE49Jj8XRaT0ZkUB-uc5rP5cDV-d6ZY1nv6xY=s64",
      "userId": "00430625077795301584"
     },
     "user_tz": -120
    },
    "id": "2833d3c4",
    "outputId": "32f1474b-8498-401a-99ca-7d83b7d72f2c"
   },
   "outputs": [
    {
     "data": {
      "text/plain": [
       "4"
      ]
     },
     "execution_count": 37,
     "metadata": {},
     "output_type": "execute_result"
    }
   ],
   "source": [
    "np.max([2,3,4])"
   ]
  },
  {
   "cell_type": "code",
   "execution_count": null,
   "id": "2e527c9b",
   "metadata": {
    "colab": {
     "base_uri": "https://localhost:8080/"
    },
    "executionInfo": {
     "elapsed": 13,
     "status": "ok",
     "timestamp": 1644053666431,
     "user": {
      "displayName": "Yaheaal",
      "photoUrl": "https://lh3.googleusercontent.com/a-/AOh14GgoE49Jj8XRaT0ZkUB-uc5rP5cDV-d6ZY1nv6xY=s64",
      "userId": "00430625077795301584"
     },
     "user_tz": -120
    },
    "id": "2e527c9b",
    "outputId": "cacf66f1-9319-4d4f-f46b-b41b2b209445"
   },
   "outputs": [
    {
     "data": {
      "text/plain": [
       "14"
      ]
     },
     "execution_count": 38,
     "metadata": {},
     "output_type": "execute_result"
    }
   ],
   "source": [
    "np.sum([2,3,4,5])"
   ]
  },
  {
   "cell_type": "code",
   "execution_count": null,
   "id": "5608f4fc",
   "metadata": {
    "colab": {
     "base_uri": "https://localhost:8080/"
    },
    "executionInfo": {
     "elapsed": 13,
     "status": "ok",
     "timestamp": 1644053666432,
     "user": {
      "displayName": "Yaheaal",
      "photoUrl": "https://lh3.googleusercontent.com/a-/AOh14GgoE49Jj8XRaT0ZkUB-uc5rP5cDV-d6ZY1nv6xY=s64",
      "userId": "00430625077795301584"
     },
     "user_tz": -120
    },
    "id": "5608f4fc",
    "outputId": "9008eef9-63e5-4ab7-8873-b52e6eeeaac1"
   },
   "outputs": [
    {
     "name": "stdout",
     "output_type": "stream",
     "text": [
      "[[12 18 19]\n",
      " [17 15 14]\n",
      " [11 15  8]]\n",
      "-------------------------\n",
      "[[11 15  8]\n",
      " [12 15 14]\n",
      " [17 18 19]]\n",
      "-------------------------\n",
      "[[12 18 19]\n",
      " [14 15 17]\n",
      " [ 8 11 15]]\n",
      "-------------------------\n"
     ]
    }
   ],
   "source": [
    "a = np.random.randint(5,20, size=9).reshape(3,3)\n",
    "b = np.sort(a,axis=0)\n",
    "c = np.sort(a,axis=1)\n",
    "\n",
    "print(a)\n",
    "print('-------------------------')\n",
    "print(b)\n",
    "print('-------------------------')\n",
    "print(c)\n",
    "print('-------------------------')"
   ]
  },
  {
   "cell_type": "code",
   "execution_count": null,
   "id": "d6ab05de",
   "metadata": {
    "id": "d6ab05de"
   },
   "outputs": [],
   "source": [
    "df = pd.DataFrame({'ID':[1,2,3,4,5],\n",
    "                   'Name':['yahea', 'ahmmad', 's', 't', 'k'],\n",
    "                   'Mark':[90, 95, 60, 0, 100]})"
   ]
  },
  {
   "cell_type": "code",
   "execution_count": null,
   "id": "EM8w9wFwhfAq",
   "metadata": {
    "colab": {
     "base_uri": "https://localhost:8080/",
     "height": 112
    },
    "executionInfo": {
     "elapsed": 305,
     "status": "ok",
     "timestamp": 1644243195365,
     "user": {
      "displayName": "Yaheaal",
      "photoUrl": "https://lh3.googleusercontent.com/a-/AOh14GgoE49Jj8XRaT0ZkUB-uc5rP5cDV-d6ZY1nv6xY=s64",
      "userId": "00430625077795301584"
     },
     "user_tz": -120
    },
    "id": "EM8w9wFwhfAq",
    "outputId": "348414e3-72f0-4106-dd8e-ac00b999858e"
   },
   "outputs": [
    {
     "data": {
      "text/html": [
       "\n",
       "  <div id=\"df-ba24426f-e60a-4c74-99f0-1788b74628e1\">\n",
       "    <div class=\"colab-df-container\">\n",
       "      <div>\n",
       "<style scoped>\n",
       "    .dataframe tbody tr th:only-of-type {\n",
       "        vertical-align: middle;\n",
       "    }\n",
       "\n",
       "    .dataframe tbody tr th {\n",
       "        vertical-align: top;\n",
       "    }\n",
       "\n",
       "    .dataframe thead th {\n",
       "        text-align: right;\n",
       "    }\n",
       "</style>\n",
       "<table border=\"1\" class=\"dataframe\">\n",
       "  <thead>\n",
       "    <tr style=\"text-align: right;\">\n",
       "      <th></th>\n",
       "      <th>ID</th>\n",
       "      <th>Name</th>\n",
       "      <th>Mark</th>\n",
       "    </tr>\n",
       "  </thead>\n",
       "  <tbody>\n",
       "    <tr>\n",
       "      <th>1</th>\n",
       "      <td>2</td>\n",
       "      <td>ahmmad</td>\n",
       "      <td>95</td>\n",
       "    </tr>\n",
       "    <tr>\n",
       "      <th>4</th>\n",
       "      <td>5</td>\n",
       "      <td>k</td>\n",
       "      <td>100</td>\n",
       "    </tr>\n",
       "  </tbody>\n",
       "</table>\n",
       "</div>\n",
       "      <button class=\"colab-df-convert\" onclick=\"convertToInteractive('df-ba24426f-e60a-4c74-99f0-1788b74628e1')\"\n",
       "              title=\"Convert this dataframe to an interactive table.\"\n",
       "              style=\"display:none;\">\n",
       "        \n",
       "  <svg xmlns=\"http://www.w3.org/2000/svg\" height=\"24px\"viewBox=\"0 0 24 24\"\n",
       "       width=\"24px\">\n",
       "    <path d=\"M0 0h24v24H0V0z\" fill=\"none\"/>\n",
       "    <path d=\"M18.56 5.44l.94 2.06.94-2.06 2.06-.94-2.06-.94-.94-2.06-.94 2.06-2.06.94zm-11 1L8.5 8.5l.94-2.06 2.06-.94-2.06-.94L8.5 2.5l-.94 2.06-2.06.94zm10 10l.94 2.06.94-2.06 2.06-.94-2.06-.94-.94-2.06-.94 2.06-2.06.94z\"/><path d=\"M17.41 7.96l-1.37-1.37c-.4-.4-.92-.59-1.43-.59-.52 0-1.04.2-1.43.59L10.3 9.45l-7.72 7.72c-.78.78-.78 2.05 0 2.83L4 21.41c.39.39.9.59 1.41.59.51 0 1.02-.2 1.41-.59l7.78-7.78 2.81-2.81c.8-.78.8-2.07 0-2.86zM5.41 20L4 18.59l7.72-7.72 1.47 1.35L5.41 20z\"/>\n",
       "  </svg>\n",
       "      </button>\n",
       "      \n",
       "  <style>\n",
       "    .colab-df-container {\n",
       "      display:flex;\n",
       "      flex-wrap:wrap;\n",
       "      gap: 12px;\n",
       "    }\n",
       "\n",
       "    .colab-df-convert {\n",
       "      background-color: #E8F0FE;\n",
       "      border: none;\n",
       "      border-radius: 50%;\n",
       "      cursor: pointer;\n",
       "      display: none;\n",
       "      fill: #1967D2;\n",
       "      height: 32px;\n",
       "      padding: 0 0 0 0;\n",
       "      width: 32px;\n",
       "    }\n",
       "\n",
       "    .colab-df-convert:hover {\n",
       "      background-color: #E2EBFA;\n",
       "      box-shadow: 0px 1px 2px rgba(60, 64, 67, 0.3), 0px 1px 3px 1px rgba(60, 64, 67, 0.15);\n",
       "      fill: #174EA6;\n",
       "    }\n",
       "\n",
       "    [theme=dark] .colab-df-convert {\n",
       "      background-color: #3B4455;\n",
       "      fill: #D2E3FC;\n",
       "    }\n",
       "\n",
       "    [theme=dark] .colab-df-convert:hover {\n",
       "      background-color: #434B5C;\n",
       "      box-shadow: 0px 1px 3px 1px rgba(0, 0, 0, 0.15);\n",
       "      filter: drop-shadow(0px 1px 2px rgba(0, 0, 0, 0.3));\n",
       "      fill: #FFFFFF;\n",
       "    }\n",
       "  </style>\n",
       "\n",
       "      <script>\n",
       "        const buttonEl =\n",
       "          document.querySelector('#df-ba24426f-e60a-4c74-99f0-1788b74628e1 button.colab-df-convert');\n",
       "        buttonEl.style.display =\n",
       "          google.colab.kernel.accessAllowed ? 'block' : 'none';\n",
       "\n",
       "        async function convertToInteractive(key) {\n",
       "          const element = document.querySelector('#df-ba24426f-e60a-4c74-99f0-1788b74628e1');\n",
       "          const dataTable =\n",
       "            await google.colab.kernel.invokeFunction('convertToInteractive',\n",
       "                                                     [key], {});\n",
       "          if (!dataTable) return;\n",
       "\n",
       "          const docLinkHtml = 'Like what you see? Visit the ' +\n",
       "            '<a target=\"_blank\" href=https://colab.research.google.com/notebooks/data_table.ipynb>data table notebook</a>'\n",
       "            + ' to learn more about interactive tables.';\n",
       "          element.innerHTML = '';\n",
       "          dataTable['output_type'] = 'display_data';\n",
       "          await google.colab.output.renderOutput(dataTable, element);\n",
       "          const docLink = document.createElement('div');\n",
       "          docLink.innerHTML = docLinkHtml;\n",
       "          element.appendChild(docLink);\n",
       "        }\n",
       "      </script>\n",
       "    </div>\n",
       "  </div>\n",
       "  "
      ],
      "text/plain": [
       "   ID    Name  Mark\n",
       "1   2  ahmmad    95\n",
       "4   5       k   100"
      ]
     },
     "execution_count": 111,
     "metadata": {},
     "output_type": "execute_result"
    }
   ],
   "source": [
    "df[df['Mark'] > 90]"
   ]
  },
  {
   "cell_type": "code",
   "execution_count": 112,
   "id": "aHUyH5O4hs_4",
   "metadata": {
    "colab": {
     "base_uri": "https://localhost:8080/"
    },
    "executionInfo": {
     "elapsed": 312,
     "status": "ok",
     "timestamp": 1644243318121,
     "user": {
      "displayName": "Yaheaal",
      "photoUrl": "https://lh3.googleusercontent.com/a-/AOh14GgoE49Jj8XRaT0ZkUB-uc5rP5cDV-d6ZY1nv6xY=s64",
      "userId": "00430625077795301584"
     },
     "user_tz": -120
    },
    "id": "aHUyH5O4hs_4",
    "outputId": "4cafbe2f-040d-4100-e832-490eaf4d223f"
   },
   "outputs": [
    {
     "data": {
      "text/plain": [
       "array([10, 10, 20, 50, 80])"
      ]
     },
     "execution_count": 112,
     "metadata": {},
     "output_type": "execute_result"
    }
   ],
   "source": [
    "import pandas as pd\n",
    "import numpy as np\n",
    "\n",
    "np.array([10, 10, 20, 50, 80])"
   ]
  },
  {
   "cell_type": "code",
   "execution_count": 115,
   "id": "8XiLoMxRifEg",
   "metadata": {
    "colab": {
     "base_uri": "https://localhost:8080/"
    },
    "executionInfo": {
     "elapsed": 262,
     "status": "ok",
     "timestamp": 1644243368119,
     "user": {
      "displayName": "Yaheaal",
      "photoUrl": "https://lh3.googleusercontent.com/a-/AOh14GgoE49Jj8XRaT0ZkUB-uc5rP5cDV-d6ZY1nv6xY=s64",
      "userId": "00430625077795301584"
     },
     "user_tz": -120
    },
    "id": "8XiLoMxRifEg",
    "outputId": "22923199-c6c3-4351-de31-a368f00ca5e2"
   },
   "outputs": [
    {
     "data": {
      "text/plain": [
       "a    10\n",
       "b    10\n",
       "c    20\n",
       "d    50\n",
       "e    80\n",
       "dtype: int64"
      ]
     },
     "execution_count": 115,
     "metadata": {},
     "output_type": "execute_result"
    }
   ],
   "source": [
    "x = pd.Series([10, 10, 20, 50, 80], index=['a', 'b','c','d','e'])\n",
    "x"
   ]
  },
  {
   "cell_type": "code",
   "execution_count": 118,
   "id": "w_Rtl4Gsil2V",
   "metadata": {
    "colab": {
     "base_uri": "https://localhost:8080/"
    },
    "executionInfo": {
     "elapsed": 285,
     "status": "ok",
     "timestamp": 1644243474024,
     "user": {
      "displayName": "Yaheaal",
      "photoUrl": "https://lh3.googleusercontent.com/a-/AOh14GgoE49Jj8XRaT0ZkUB-uc5rP5cDV-d6ZY1nv6xY=s64",
      "userId": "00430625077795301584"
     },
     "user_tz": -120
    },
    "id": "w_Rtl4Gsil2V",
    "outputId": "269f33c4-4f65-4ab0-8118-100ab39a8807"
   },
   "outputs": [
    {
     "data": {
      "text/plain": [
       "a    False\n",
       "b    False\n",
       "c    False\n",
       "d    False\n",
       "e     True\n",
       "dtype: bool"
      ]
     },
     "execution_count": 118,
     "metadata": {},
     "output_type": "execute_result"
    }
   ],
   "source": [
    "x>50"
   ]
  },
  {
   "cell_type": "markdown",
   "id": "d277ad95-bf2b-484c-b121-ef4d0654467b",
   "metadata": {
    "id": "Moww4d6Ki9By"
   },
   "source": [
    "# images are np array"
   ]
  },
  {
   "cell_type": "code",
   "execution_count": null,
   "id": "5918ce3a-1684-4623-8c4b-630673c5f283",
   "metadata": {},
   "outputs": [],
   "source": [
    "from skimage import io"
   ]
  },
  {
   "cell_type": "markdown",
   "id": "0e23489d-3ad5-4e0e-8abb-da1634dec310",
   "metadata": {},
   "source": [
    "# Save and load numpay arrays"
   ]
  },
  {
   "cell_type": "code",
   "execution_count": 74,
   "id": "8cb94874-cde9-493a-89d4-1c2ef3471210",
   "metadata": {},
   "outputs": [],
   "source": [
    "# it will save it in files in same folder\n",
    "to_save = np.array([[1, 2, 3],\n",
    "                [4, 5, 6]])\n",
    "np.save('to_save.npy',to_save)"
   ]
  },
  {
   "cell_type": "code",
   "execution_count": 75,
   "id": "893f66a9-0a5e-4a7f-affd-ab8251f3b1e4",
   "metadata": {},
   "outputs": [
    {
     "data": {
      "text/plain": [
       "array([[1, 2, 3],\n",
       "       [4, 5, 6]])"
      ]
     },
     "execution_count": 75,
     "metadata": {},
     "output_type": "execute_result"
    }
   ],
   "source": [
    "np.load('to_save.npy')"
   ]
  },
  {
   "cell_type": "code",
   "execution_count": 76,
   "id": "e55da736-c031-45ee-aa3d-c99500a2745b",
   "metadata": {},
   "outputs": [],
   "source": [
    "np.savetxt('to_save.scv',to_save, delimiter=',')"
   ]
  },
  {
   "cell_type": "code",
   "execution_count": 77,
   "id": "744ffa90-1d4c-4aad-8e4a-c4eaac3c93a2",
   "metadata": {},
   "outputs": [
    {
     "data": {
      "text/plain": [
       "array([[1., 2., 3.],\n",
       "       [4., 5., 6.]])"
      ]
     },
     "execution_count": 77,
     "metadata": {},
     "output_type": "execute_result"
    }
   ],
   "source": [
    "np.loadtxt('to_save.scv', delimiter=',')"
   ]
  },
  {
   "cell_type": "code",
   "execution_count": null,
   "id": "4bb70474-e820-427a-9183-b0a4fc602b54",
   "metadata": {},
   "outputs": [],
   "source": []
  }
 ],
 "metadata": {
  "colab": {
   "collapsed_sections": [],
   "name": "Start with numpy.ipynb",
   "provenance": []
  },
  "kernelspec": {
   "display_name": "Python 3 (ipykernel)",
   "language": "python",
   "name": "python3"
  },
  "language_info": {
   "codemirror_mode": {
    "name": "ipython",
    "version": 3
   },
   "file_extension": ".py",
   "mimetype": "text/x-python",
   "name": "python",
   "nbconvert_exporter": "python",
   "pygments_lexer": "ipython3",
   "version": "3.10.12"
  }
 },
 "nbformat": 4,
 "nbformat_minor": 5
}
